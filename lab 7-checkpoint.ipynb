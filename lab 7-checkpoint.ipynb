{
 "cells": [
  {
   "cell_type": "markdown",
   "metadata": {},
   "source": [
    "# Q1\n",
    "\n",
    "Company: The Norfolk and Dedham Group\n",
    "Description: Job posting for a Business Intelligence Analyst\n",
    "[job website](https://www.indeed.com/jobs?q=intelligence%20analyst&l=Harrisonburg%2C%20VA&vjk=a7ced0482ebc8fd)"
   ]
  },
  {
   "cell_type": "code",
   "execution_count": 1,
   "metadata": {},
   "outputs": [
    {
     "name": "stdout",
     "output_type": "stream",
     "text": [
      "Status: Exempt\n",
      "Reports to: Chief Product Officer \n",
      "At The N&D® Group, we have been covering local homeowners, drivers, and businesses with personalized insurance policies since 1825. As a locally grown insurance company, we know the region, know the risks, and know the right coverage.\n",
      "Under the supervision of the Chief Product Officer, the Business Intelligence Analyst will help lead the development and management of effective business intelligence reporting. The BI platform will deliver valuable information in a manner that facilitates productive decision-making for the organization.\n",
      "Responsibilities:\n",
      "Work with business users to determine business requirements, priorities, define key performance indicators (KPI), and develop BI and data warehouse strategy. This includes working with business and development teams to design, and document dashboards, alerts, and reports. \n",
      "Works with business partners to create reports and dashboards drawing data from various internal and external data sources.\n",
      "Closely monitors and assesses growth and profitability trends as well as the impact of planned initiatives aimed at improving performance across various product lines.\n",
      "Educate and train business partners to use the data as an analytical tool, displaying the information in new forms and content for analysis and optional exploration.\n",
      "Works effectively across the organization to proactively investigate and understand internal business trends.\n",
      "Based on analysis, provides key insights and recommendations to shape go-forward business strategies for Product and Underwriting leaders.\n",
      "Analyzes competitiveness and profitability trends and is responsible for tactical and strategic recommendations.\n",
      "Builds and maintains common monthly and quarterly reports. Delivers reports according to published timeframes.\n",
      "Collaborate with analytical peers and counterparts across the organization to stay on top of overarching product trends and Analytics best practices.\n",
      "Research insurance product and service updates, including competitor filings, marketing intelligence and industry news sources to identify potential product enhancements.\n",
      "Qualifications:\n",
      "Bachelor's degree in business, economics, or other quantitative field\n",
      "Insurance industry designations preferred, (such as CPCU)\n",
      "2-4 years of relevant and progressive work experience in product management, modeling and actuarial concepts \n",
      "Strong attention to detail with advanced analytical and problem-solving skills to make data driven decisions.\n",
      "Broad proficiency in Excel, PowerPoint, and data analysis/visualization software (e.g., SAS, Essbase, Toad, SQL, Crystal Reports, Tableau, Power BI).\n",
      "Experience gathering and translating user requirements into end user reports.\n",
      "Experience with data visualization & reporting tools. \n",
      "Strong interpersonal skills and ability to establish and maintain effective working relationships with internal and external people in a multi-cultural environment.\n",
      "Strong written and verbal communication skills, as well as proven ability to effectively present technical concepts to non-technical individuals within and outside the organization. \n",
      "Ability to work independently and handle multiple tasks/projects simultaneously.\n",
      "\n",
      "29 days ago \n",
      "If you require alternative methods of application or screening, you must approach the employer directly to request this as Indeed is not responsible for the employer's application process.\n"
     ]
    }
   ],
   "source": [
    "jobpost = open('jobpost.txt','r')\n",
    "\n",
    "print(jobpost.read())\n",
    "jobpost.close()"
   ]
  },
  {
   "cell_type": "markdown",
   "metadata": {},
   "source": [
    "# Q2"
   ]
  },
  {
   "cell_type": "code",
   "execution_count": 2,
   "metadata": {},
   "outputs": [
    {
     "name": "stdout",
     "output_type": "stream",
     "text": [
      "and 38\n",
      "the 16\n",
      "to 16\n",
      "with 8\n",
      "business 8\n",
      "data 7\n",
      "as 7\n",
      "of 6\n",
      "in 6\n",
      "for 5\n",
      "product 5\n",
      "Product 3\n",
      "insurance 3\n",
      "a 3\n",
      "know 3\n",
      "reports. 3\n",
      "internal 3\n",
      "trends 3\n",
      "across 3\n",
      "analytical 3\n"
     ]
    }
   ],
   "source": [
    "from collections import Counter \n",
    "with open ('jobpost.txt','r') as jobpost:\n",
    "    jobpost_list = jobpost.read().split()\n",
    "    count_result = Counter(jobpost_list)\n",
    "    \n",
    "    for word, count in count_result.most_common(20):\n",
    "        print(word,count)\n"
   ]
  },
  {
   "cell_type": "markdown",
   "metadata": {},
   "source": [
    "# Q3"
   ]
  },
  {
   "cell_type": "code",
   "execution_count": 3,
   "metadata": {},
   "outputs": [],
   "source": [
    "import xlwt\n",
    "from collections import Counter\n",
    "book = xlwt.Workbook()\n",
    "sheet = book.add_sheet('word_count')\n",
    "i = 0\n",
    "sheet.write(0,0,word)\n",
    "sheet.write(i,1,count)\n",
    "with open ('jobpost.txt','r') as jobpost:\n",
    "    jobpost_list = jobpost.read().split()\n",
    "    count_result = Counter(jobpost_list)\n",
    "    for word, count in count_result.most_common(20):\n",
    "        i = i+1\n",
    "        if i > 0:\n",
    "            sheet.write(i,0,word)\n",
    "            sheet.write(i,1,count)\n",
    "        \n",
    "book.save('job_words.xls')"
   ]
  },
  {
   "cell_type": "markdown",
   "metadata": {},
   "source": [
    "# Q4"
   ]
  },
  {
   "cell_type": "code",
   "execution_count": 4,
   "metadata": {},
   "outputs": [
    {
     "name": "stdout",
     "output_type": "stream",
     "text": [
      "21\n",
      "analytical 3.0\n",
      "and 38.0\n",
      "the 16.0\n",
      "to 16.0\n",
      "with 8.0\n",
      "business 8.0\n",
      "data 7.0\n",
      "as 7.0\n",
      "of 6.0\n",
      "in 6.0\n",
      "for 5.0\n",
      "product 5.0\n",
      "Product 3.0\n",
      "insurance 3.0\n",
      "a 3.0\n",
      "know 3.0\n",
      "reports. 3.0\n",
      "internal 3.0\n",
      "trends 3.0\n",
      "across 3.0\n"
     ]
    }
   ],
   "source": [
    "import xlrd\n",
    "book = xlrd.open_workbook('job_words.xls')\n",
    "sheet = book.sheet_by_name('word_count')\n",
    "print(sheet.nrows)\n",
    "\n",
    "for i in range(20):\n",
    "    row=sheet.row_values(i)\n",
    "    word,count=row\n",
    "    print(word,count)"
   ]
  },
  {
   "cell_type": "markdown",
   "metadata": {},
   "source": [
    "# Q5"
   ]
  },
  {
   "cell_type": "markdown",
   "metadata": {},
   "source": [
    "<img src = 'Sheet2.png'>"
   ]
  },
  {
   "cell_type": "code",
   "execution_count": null,
   "metadata": {},
   "outputs": [],
   "source": []
  }
 ],
 "metadata": {
  "kernelspec": {
   "display_name": "Python 3",
   "language": "python",
   "name": "python3"
  },
  "language_info": {
   "codemirror_mode": {
    "name": "ipython",
    "version": 3
   },
   "file_extension": ".py",
   "mimetype": "text/x-python",
   "name": "python",
   "nbconvert_exporter": "python",
   "pygments_lexer": "ipython3",
   "version": "3.6.5"
  }
 },
 "nbformat": 4,
 "nbformat_minor": 2
}
