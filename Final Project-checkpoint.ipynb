{
 "cells": [
  {
   "cell_type": "markdown",
   "metadata": {},
   "source": [
    "# Final Project IA 241"
   ]
  },
  {
   "cell_type": "markdown",
   "metadata": {},
   "source": [
    "## Introduction \n",
    "\n",
    "The job market for Intelligence Analysis is diverse compared to other fields with national security and the private sector.The objective of this project is to put into practice the basic programming skills we have learned this semester using Python including basic data analysis and data visualization to analyze the job market for Intelligence Analysis. This is highly relevant as it allows us to gain insight into the different jobs that we could potentially end up in after graduation"
   ]
  },
  {
   "cell_type": "markdown",
   "metadata": {},
   "source": [
    "Data used in this project: <a href='jobs_xlfile.xlsx'>Excel File</a>"
   ]
  },
  {
   "cell_type": "code",
   "execution_count": 1,
   "metadata": {},
   "outputs": [],
   "source": [
    "import xlrd"
   ]
  },
  {
   "cell_type": "code",
   "execution_count": 2,
   "metadata": {},
   "outputs": [],
   "source": [
    "book = xlrd.open_workbook('jobs_xlfile.xlsx')\n",
    "sheet = book.sheet_by_name('iajobs')\n",
    "\n",
    "%matplotlib inline\n",
    "import matplotlib.pyplot as plt"
   ]
  },
  {
   "cell_type": "code",
   "execution_count": 3,
   "metadata": {},
   "outputs": [
    {
     "name": "stdout",
     "output_type": "stream",
     "text": [
      "['Political Analyst', 'Intelligence Analyst', 'Business Intelligence Analyst', 'Business Systems Analyst', 'Business Intelligence Analyst', 'Business Intelligence Reporting Analyst (3-5 yrs) US Citizen or green Card', 'Business Intelligence Analyst', 'Delivery Analyst', 'Financial Analyst, Asset Management', 'Sales and Marketing Analyst', 'Business Intelligence Analyst', 'Systems Analyst', 'Business Intelligence Analyst', 'Business Intelligence Analyst', 'Business Intelligence Analyst', 'Business Intelligence Analyst', 'Investigative Analyst', 'Business Intelligence Analyst', 'Business Intelligence Analyst', 'Business Development Analyst']\n",
      "['CIA', 'New York City BUSINESS INTEGRITY COMMISSION', 'Matrix Resources', 'S&P Global Market Intelligence', 'ABQ Finance', 'Career Developers', 'State of AZ', 'VizExplorer', 'Security Properties ', 'Rio Grande', 'GrowthLink', 'Vox Media', 'LA County Office of Education', 'Pure Dental Brands', 'Arteza.com', 'Grand Circle Corporation', 'US DOJ', 'Datavision Technologies, Inc.', 'Oriental Bank', 'Edvo']\n",
      "[43459.0, 43526.0, 43534.0, 43534.0, 43541.0, 43541.0, 43543.0, 43543.0, 43544.0, 43552.0, 43556.0, 43557.0, 43558.0, 43559.0, 43560.0, 43563.0, 43571.0, 43571.0, 43571.0, 43571.0]\n",
      "['Washington, DC', 'Manhattan, NY', 'Phoeniz, AZ', 'Centennial, CO', 'Albuquerque, NM', 'New York, NY', 'Phoeniz, AZ', 'San Diego, CA', 'Seattle, WA', 'Albuquerque, NM ', 'Miami, FL', 'New York, NY', 'Downey, CA', 'St. Petersberg, FL', 'N Miami Beach, FL', 'Boston, MA', 'Newark, NJ', 'Pembroke Pines, FL', 'Hato Rey, PR', 'Palo Alto, CA']\n",
      "[54308.0, 37217.0, 90000.0, 73000.0, 90000.0, 100000.0, 50890.0, 45000.0, 50000.0, 57000.0, 70000.0, 60000.0, 81864.0, 50000.0, 75000.0, 79000.0, 85810.0, 50000.0, 50000.0, 50000.0]\n",
      "['produce written reports, deliver oral assessments, analyze domestic and foreign politics ', 'reviewing and verifying documentation, conducting database and online searches, compiling and analyzing research, preparing intelligence reports and charts, presenting case findings', 'Develop, troubleshoot, datasets by use requirements analysis,use design techniques', 'document risks, manage deliverable milestones, communicate out and up to stakeholders, focus on continuous improvement', 'develop key performance metrics, help drive key business decisions, use data compiling/modeling/reporting/automation', 'standardizing the companies application development environment, provide strategic coordination and tactical governance, provide analysis of new and existing applications', 'assist the manager of the Enterprise Data Management Office with the routine tasks, maintain current enterprise data management practices, implement new ones.', 'responsible for deployments and upgrades of VizExplorer software ', 'support the asset managers, understand the assets/partners/business strategy/challenges,\\rensure monthly calls are held with each property manager to review strategy', 'convert complex data and findings into presentations, interpret data, analyze results using statistical techniques, provide regular reports', 'design and document dashboards and reports, create and distribute analysis reports in written and verbal form to a variety of audiences, contribute with continuous improvement efforts', 'responsible for systems management, gather, configure, test, train, support post deployment, provide visibility', 'practice data visualization and modeling techniques', 'provide data assessment, measure performance to support management decisions, provide reports/graphs/professional presentations', 'responsible for instituting new policies, institute new procedures, support new programs, process several different types of data', 'design & develop Business Intelligence software engineering solutions, help decision support', '\\xa0gather evidence and intelligence, developing investigative policies, techniques, and procedures', 'creating reports and dashboards and visualizations, provide the training and support required to help them get the most out of their data', 'gather business results, process financial data, translate findings into reports, drive strategic business decisions, identify customer trends and deviations, support projects and targeted initiatives', 'identify and create new qualified opportunities for your Account Executive counterparts, reach out to potential buyers, qualify active buying interest, identify critical decision makers']\n",
      "['strong critical thinking, problem solving ', 'excellent organization, time management, communication, analytical, fast-learner', 'knowledge of MS Windows 7 and /or MS Windows 10', 'good project working skills, working in teams, communication with decision-makers,  analysis Skills (Includes basic Data analysis, Databases and SQL), communication skills (presentational, active listening, ability to build consensus, buy-in and support across functions and at all levels)', 'Familiarity with Data Visualization best practices, experience with data cleaning', 'knowledge of SQL, Stored Procedures, Functions and Indexes.', 'Experience/education in Business Analysis, Computer Science or related fields.', 'knowledge of SQL', 'analytical skills, problem solving, financial analytical skills, statistical analysis, advanced proficiency using technology', 'advanced proficiency using technology, knowledge of SQL', 'driven, results oriented, comfortable working directly with decision makers,  strong quantitative analytical skills', 'knowledge of SQL, good project working skills', \"CBIP credential, California driver's license, private transportation\", 'financial reporting, statistics and regression analysis ', 'experience with Domo or Tableau, ability to communicate directly with the Executive team, strong analytical, quantitative, problem solving, and organizational skills,attention to detail', 'knowledge of SQL, 3 years’ experience working with Oracle, Toad, & Java Scripting', 'You must be a United States Citizen or National, background investigation, credit check, and drug test required.', 'Advanced proficiency in Microsoft Excel, willingness to learn, autodidacticism ', 'advanced proficiency using technology, knowing how to use MS Office is required, communication, fluency in English, fluency in Spanish', 'comfortable working directly with decision makers']\n",
      "[0.0, 3.0, 2.0, 3.0, 6.0, 5.0, 0.0, 0.0, 2.0, 3.0, 3.0, 2.0, 3.0, 0.0, 3.0, 4.0, 1.0, 2.0, 1.0, 0.0]\n",
      "['Bachelor', 'HS', 'Bachelor', 'None', 'Bachelor ', 'Bachelor ', 'Bachelor\\xa0', 'Bachelor ', 'Bachelor ', 'Bachelor ', 'Bachelor ', 'Bachelor ', 'Bachelor ', 'Bachelor ', 'Bachelor ', 'Bachelor ', 'None', 'None', 'Bachelor ', 'Bachelor ']\n"
     ]
    }
   ],
   "source": [
    "job_title_list = []\n",
    "company_name_list = []\n",
    "posted_date_list = []\n",
    "job_location_list = []\n",
    "minimal_salary_list = []\n",
    "job_duties_list = []\n",
    "required_skills_list = []\n",
    "min_yrs_exp_list = []\n",
    "min_lvl_ed_list = []\n",
    "\n",
    "for i in range(sheet.nrows):\n",
    "    job_title,company_name,posted_date,job_location,minimal_salary,job_duties,required_skills,min_yrs_exp,min_lvl_ed, url = sheet.row_values(i)\n",
    "    if i !=0:\n",
    "        \n",
    "        job_title_list.append(job_title)\n",
    "        company_name_list.append(company_name)\n",
    "        posted_date_list.append(posted_date)\n",
    "        job_location_list.append(job_location)\n",
    "        minimal_salary_list.append(minimal_salary)\n",
    "        job_duties_list.append(job_duties)\n",
    "        required_skills_list.append(required_skills)\n",
    "        min_yrs_exp_list.append(min_yrs_exp)\n",
    "        min_lvl_ed_list.append(min_lvl_ed)\n",
    "\n",
    "print(job_title_list)\n",
    "print(company_name_list)\n",
    "print(posted_date_list)\n",
    "print(job_location_list)\n",
    "print(minimal_salary_list)\n",
    "print(job_duties_list)\n",
    "print(required_skills_list)\n",
    "print(min_yrs_exp_list)\n",
    "print(min_lvl_ed_list)"
   ]
  },
  {
   "cell_type": "code",
   "execution_count": 4,
   "metadata": {},
   "outputs": [
    {
     "data": {
      "text/html": [
       "<div>\n",
       "<style scoped>\n",
       "    .dataframe tbody tr th:only-of-type {\n",
       "        vertical-align: middle;\n",
       "    }\n",
       "\n",
       "    .dataframe tbody tr th {\n",
       "        vertical-align: top;\n",
       "    }\n",
       "\n",
       "    .dataframe thead th {\n",
       "        text-align: right;\n",
       "    }\n",
       "</style>\n",
       "<table border=\"1\" class=\"dataframe\">\n",
       "  <thead>\n",
       "    <tr style=\"text-align: right;\">\n",
       "      <th></th>\n",
       "      <th>job_title</th>\n",
       "      <th>company_name</th>\n",
       "      <th>posted_date</th>\n",
       "      <th>job_location</th>\n",
       "      <th>minimal_salary</th>\n",
       "      <th>job_duties</th>\n",
       "      <th>required_skills</th>\n",
       "      <th>min_yrs_exp</th>\n",
       "      <th>min_lvl_ed</th>\n",
       "      <th>URL</th>\n",
       "    </tr>\n",
       "  </thead>\n",
       "  <tbody>\n",
       "    <tr>\n",
       "      <th>0</th>\n",
       "      <td>Political Analyst</td>\n",
       "      <td>CIA</td>\n",
       "      <td>2018-12-25</td>\n",
       "      <td>Washington, DC</td>\n",
       "      <td>54308</td>\n",
       "      <td>produce written reports, deliver oral assessme...</td>\n",
       "      <td>strong critical thinking, problem solving</td>\n",
       "      <td>0</td>\n",
       "      <td>Bachelor</td>\n",
       "      <td>https://www.indeed.com/jobs?q=intelligence%20a...</td>\n",
       "    </tr>\n",
       "    <tr>\n",
       "      <th>1</th>\n",
       "      <td>Intelligence Analyst</td>\n",
       "      <td>New York City BUSINESS INTEGRITY COMMISSION</td>\n",
       "      <td>2019-03-02</td>\n",
       "      <td>Manhattan, NY</td>\n",
       "      <td>37217</td>\n",
       "      <td>reviewing and verifying documentation, conduct...</td>\n",
       "      <td>excellent organization, time management, commu...</td>\n",
       "      <td>3</td>\n",
       "      <td>HS</td>\n",
       "      <td>https://www.indeed.com/jobs?q=intelligence%20a...</td>\n",
       "    </tr>\n",
       "    <tr>\n",
       "      <th>2</th>\n",
       "      <td>Business Intelligence Analyst</td>\n",
       "      <td>Matrix Resources</td>\n",
       "      <td>2019-03-10</td>\n",
       "      <td>Phoeniz, AZ</td>\n",
       "      <td>90000</td>\n",
       "      <td>Develop, troubleshoot, datasets by use require...</td>\n",
       "      <td>knowledge of MS Windows 7 and /or MS Windows 10</td>\n",
       "      <td>2</td>\n",
       "      <td>Bachelor</td>\n",
       "      <td>https://www.indeed.com/jobs?q=intelligence%20a...</td>\n",
       "    </tr>\n",
       "    <tr>\n",
       "      <th>3</th>\n",
       "      <td>Business Systems Analyst</td>\n",
       "      <td>S&amp;P Global Market Intelligence</td>\n",
       "      <td>2019-03-10</td>\n",
       "      <td>Centennial, CO</td>\n",
       "      <td>73000</td>\n",
       "      <td>document risks, manage deliverable milestones,...</td>\n",
       "      <td>good project working skills, working in teams,...</td>\n",
       "      <td>3</td>\n",
       "      <td>None</td>\n",
       "      <td>https://www.indeed.com/jobs?q=intelligence%20a...</td>\n",
       "    </tr>\n",
       "    <tr>\n",
       "      <th>4</th>\n",
       "      <td>Business Intelligence Analyst</td>\n",
       "      <td>ABQ Finance</td>\n",
       "      <td>2019-03-17</td>\n",
       "      <td>Albuquerque, NM</td>\n",
       "      <td>90000</td>\n",
       "      <td>develop key performance metrics, help drive ke...</td>\n",
       "      <td>Familiarity with Data Visualization best pract...</td>\n",
       "      <td>6</td>\n",
       "      <td>Bachelor</td>\n",
       "      <td>https://www.indeed.com/jobs?q=intelligence%20a...</td>\n",
       "    </tr>\n",
       "    <tr>\n",
       "      <th>5</th>\n",
       "      <td>Business Intelligence Reporting Analyst (3-5 y...</td>\n",
       "      <td>Career Developers</td>\n",
       "      <td>2019-03-17</td>\n",
       "      <td>New York, NY</td>\n",
       "      <td>100000</td>\n",
       "      <td>standardizing the companies application develo...</td>\n",
       "      <td>knowledge of SQL, Stored Procedures, Functions...</td>\n",
       "      <td>5</td>\n",
       "      <td>Bachelor</td>\n",
       "      <td>https://www.indeed.com/jobs?q=intelligence%20a...</td>\n",
       "    </tr>\n",
       "    <tr>\n",
       "      <th>6</th>\n",
       "      <td>Business Intelligence Analyst</td>\n",
       "      <td>State of AZ</td>\n",
       "      <td>2019-03-19</td>\n",
       "      <td>Phoeniz, AZ</td>\n",
       "      <td>50890</td>\n",
       "      <td>assist the manager of the Enterprise Data Mana...</td>\n",
       "      <td>Experience/education in Business Analysis, Com...</td>\n",
       "      <td>0</td>\n",
       "      <td>Bachelor</td>\n",
       "      <td>https://www.indeed.com/jobs?q=intelligence%20a...</td>\n",
       "    </tr>\n",
       "    <tr>\n",
       "      <th>7</th>\n",
       "      <td>Delivery Analyst</td>\n",
       "      <td>VizExplorer</td>\n",
       "      <td>2019-03-19</td>\n",
       "      <td>San Diego, CA</td>\n",
       "      <td>45000</td>\n",
       "      <td>responsible for deployments and upgrades of Vi...</td>\n",
       "      <td>knowledge of SQL</td>\n",
       "      <td>0</td>\n",
       "      <td>Bachelor</td>\n",
       "      <td>https://www.indeed.com/jobs?q=intelligence%20a...</td>\n",
       "    </tr>\n",
       "    <tr>\n",
       "      <th>8</th>\n",
       "      <td>Financial Analyst, Asset Management</td>\n",
       "      <td>Security Properties</td>\n",
       "      <td>2019-03-20</td>\n",
       "      <td>Seattle, WA</td>\n",
       "      <td>50000</td>\n",
       "      <td>support the asset managers, understand the ass...</td>\n",
       "      <td>analytical skills, problem solving, financial ...</td>\n",
       "      <td>2</td>\n",
       "      <td>Bachelor</td>\n",
       "      <td>https://www.indeed.com/jobs?q=intelligence%20a...</td>\n",
       "    </tr>\n",
       "    <tr>\n",
       "      <th>9</th>\n",
       "      <td>Sales and Marketing Analyst</td>\n",
       "      <td>Rio Grande</td>\n",
       "      <td>2019-03-28</td>\n",
       "      <td>Albuquerque, NM</td>\n",
       "      <td>57000</td>\n",
       "      <td>convert complex data and findings into present...</td>\n",
       "      <td>advanced proficiency using technology, knowled...</td>\n",
       "      <td>3</td>\n",
       "      <td>Bachelor</td>\n",
       "      <td>https://www.indeed.com/jobs?q=intelligence%20a...</td>\n",
       "    </tr>\n",
       "    <tr>\n",
       "      <th>10</th>\n",
       "      <td>Business Intelligence Analyst</td>\n",
       "      <td>GrowthLink</td>\n",
       "      <td>2019-04-01</td>\n",
       "      <td>Miami, FL</td>\n",
       "      <td>70000</td>\n",
       "      <td>design and document dashboards and reports, cr...</td>\n",
       "      <td>driven, results oriented, comfortable working ...</td>\n",
       "      <td>3</td>\n",
       "      <td>Bachelor</td>\n",
       "      <td>https://www.indeed.com/jobs?q=intelligence%20a...</td>\n",
       "    </tr>\n",
       "    <tr>\n",
       "      <th>11</th>\n",
       "      <td>Systems Analyst</td>\n",
       "      <td>Vox Media</td>\n",
       "      <td>2019-04-02</td>\n",
       "      <td>New York, NY</td>\n",
       "      <td>60000</td>\n",
       "      <td>responsible for systems management, gather, co...</td>\n",
       "      <td>knowledge of SQL, good project working skills</td>\n",
       "      <td>2</td>\n",
       "      <td>Bachelor</td>\n",
       "      <td>https://www.indeed.com/jobs?q=intelligence%20a...</td>\n",
       "    </tr>\n",
       "    <tr>\n",
       "      <th>12</th>\n",
       "      <td>Business Intelligence Analyst</td>\n",
       "      <td>LA County Office of Education</td>\n",
       "      <td>2019-04-03</td>\n",
       "      <td>Downey, CA</td>\n",
       "      <td>81864</td>\n",
       "      <td>practice data visualization and modeling techn...</td>\n",
       "      <td>CBIP credential, California driver's license, ...</td>\n",
       "      <td>3</td>\n",
       "      <td>Bachelor</td>\n",
       "      <td>https://www.indeed.com/jobs?q=intelligence%20a...</td>\n",
       "    </tr>\n",
       "    <tr>\n",
       "      <th>13</th>\n",
       "      <td>Business Intelligence Analyst</td>\n",
       "      <td>Pure Dental Brands</td>\n",
       "      <td>2019-04-04</td>\n",
       "      <td>St. Petersberg, FL</td>\n",
       "      <td>50000</td>\n",
       "      <td>provide data assessment, measure performance t...</td>\n",
       "      <td>financial reporting, statistics and regression...</td>\n",
       "      <td>0</td>\n",
       "      <td>Bachelor</td>\n",
       "      <td>https://www.indeed.com/jobs?q=intelligence%20a...</td>\n",
       "    </tr>\n",
       "    <tr>\n",
       "      <th>14</th>\n",
       "      <td>Business Intelligence Analyst</td>\n",
       "      <td>Arteza.com</td>\n",
       "      <td>2019-04-05</td>\n",
       "      <td>N Miami Beach, FL</td>\n",
       "      <td>75000</td>\n",
       "      <td>responsible for instituting new policies, inst...</td>\n",
       "      <td>experience with Domo or Tableau, ability to co...</td>\n",
       "      <td>3</td>\n",
       "      <td>Bachelor</td>\n",
       "      <td>https://www.indeed.com/jobs?q=intelligence%20a...</td>\n",
       "    </tr>\n",
       "    <tr>\n",
       "      <th>15</th>\n",
       "      <td>Business Intelligence Analyst</td>\n",
       "      <td>Grand Circle Corporation</td>\n",
       "      <td>2019-04-08</td>\n",
       "      <td>Boston, MA</td>\n",
       "      <td>79000</td>\n",
       "      <td>design &amp; develop Business Intelligence softwar...</td>\n",
       "      <td>knowledge of SQL, 3 years’ experience working ...</td>\n",
       "      <td>4</td>\n",
       "      <td>Bachelor</td>\n",
       "      <td>https://www.indeed.com/jobs?q=intelligence%20a...</td>\n",
       "    </tr>\n",
       "    <tr>\n",
       "      <th>16</th>\n",
       "      <td>Investigative Analyst</td>\n",
       "      <td>US DOJ</td>\n",
       "      <td>2019-04-16</td>\n",
       "      <td>Newark, NJ</td>\n",
       "      <td>85810</td>\n",
       "      <td>gather evidence and intelligence, developing ...</td>\n",
       "      <td>You must be a United States Citizen or Nationa...</td>\n",
       "      <td>1</td>\n",
       "      <td>None</td>\n",
       "      <td>https://www.indeed.com/jobs?q=intelligence%20a...</td>\n",
       "    </tr>\n",
       "    <tr>\n",
       "      <th>17</th>\n",
       "      <td>Business Intelligence Analyst</td>\n",
       "      <td>Datavision Technologies, Inc.</td>\n",
       "      <td>2019-04-16</td>\n",
       "      <td>Pembroke Pines, FL</td>\n",
       "      <td>50000</td>\n",
       "      <td>creating reports and dashboards and visualizat...</td>\n",
       "      <td>Advanced proficiency in Microsoft Excel, willi...</td>\n",
       "      <td>2</td>\n",
       "      <td>None</td>\n",
       "      <td>https://www.indeed.com/jobs?q=intelligence%20a...</td>\n",
       "    </tr>\n",
       "    <tr>\n",
       "      <th>18</th>\n",
       "      <td>Business Intelligence Analyst</td>\n",
       "      <td>Oriental Bank</td>\n",
       "      <td>2019-04-16</td>\n",
       "      <td>Hato Rey, PR</td>\n",
       "      <td>50000</td>\n",
       "      <td>gather business results, process financial dat...</td>\n",
       "      <td>advanced proficiency using technology, knowing...</td>\n",
       "      <td>1</td>\n",
       "      <td>Bachelor</td>\n",
       "      <td>https://www.indeed.com/q-intelligence-analyst-...</td>\n",
       "    </tr>\n",
       "    <tr>\n",
       "      <th>19</th>\n",
       "      <td>Business Development Analyst</td>\n",
       "      <td>Edvo</td>\n",
       "      <td>2019-04-16</td>\n",
       "      <td>Palo Alto, CA</td>\n",
       "      <td>50000</td>\n",
       "      <td>identify and create new qualified opportunitie...</td>\n",
       "      <td>comfortable working directly with decision makers</td>\n",
       "      <td>0</td>\n",
       "      <td>Bachelor</td>\n",
       "      <td>https://www.indeed.com/jobs?q=intelligence%20a...</td>\n",
       "    </tr>\n",
       "  </tbody>\n",
       "</table>\n",
       "</div>"
      ],
      "text/plain": [
       "                                            job_title  \\\n",
       "0                                   Political Analyst   \n",
       "1                                Intelligence Analyst   \n",
       "2                       Business Intelligence Analyst   \n",
       "3                            Business Systems Analyst   \n",
       "4                       Business Intelligence Analyst   \n",
       "5   Business Intelligence Reporting Analyst (3-5 y...   \n",
       "6                       Business Intelligence Analyst   \n",
       "7                                    Delivery Analyst   \n",
       "8                 Financial Analyst, Asset Management   \n",
       "9                         Sales and Marketing Analyst   \n",
       "10                      Business Intelligence Analyst   \n",
       "11                                    Systems Analyst   \n",
       "12                      Business Intelligence Analyst   \n",
       "13                      Business Intelligence Analyst   \n",
       "14                      Business Intelligence Analyst   \n",
       "15                      Business Intelligence Analyst   \n",
       "16                              Investigative Analyst   \n",
       "17                      Business Intelligence Analyst   \n",
       "18                      Business Intelligence Analyst   \n",
       "19                       Business Development Analyst   \n",
       "\n",
       "                                   company_name posted_date  \\\n",
       "0                                           CIA  2018-12-25   \n",
       "1   New York City BUSINESS INTEGRITY COMMISSION  2019-03-02   \n",
       "2                              Matrix Resources  2019-03-10   \n",
       "3                S&P Global Market Intelligence  2019-03-10   \n",
       "4                                   ABQ Finance  2019-03-17   \n",
       "5                             Career Developers  2019-03-17   \n",
       "6                                   State of AZ  2019-03-19   \n",
       "7                                   VizExplorer  2019-03-19   \n",
       "8                          Security Properties   2019-03-20   \n",
       "9                                    Rio Grande  2019-03-28   \n",
       "10                                   GrowthLink  2019-04-01   \n",
       "11                                    Vox Media  2019-04-02   \n",
       "12                LA County Office of Education  2019-04-03   \n",
       "13                           Pure Dental Brands  2019-04-04   \n",
       "14                                   Arteza.com  2019-04-05   \n",
       "15                     Grand Circle Corporation  2019-04-08   \n",
       "16                                       US DOJ  2019-04-16   \n",
       "17                Datavision Technologies, Inc.  2019-04-16   \n",
       "18                                Oriental Bank  2019-04-16   \n",
       "19                                         Edvo  2019-04-16   \n",
       "\n",
       "          job_location  minimal_salary  \\\n",
       "0       Washington, DC           54308   \n",
       "1        Manhattan, NY           37217   \n",
       "2          Phoeniz, AZ           90000   \n",
       "3       Centennial, CO           73000   \n",
       "4      Albuquerque, NM           90000   \n",
       "5         New York, NY          100000   \n",
       "6          Phoeniz, AZ           50890   \n",
       "7        San Diego, CA           45000   \n",
       "8          Seattle, WA           50000   \n",
       "9     Albuquerque, NM            57000   \n",
       "10           Miami, FL           70000   \n",
       "11        New York, NY           60000   \n",
       "12          Downey, CA           81864   \n",
       "13  St. Petersberg, FL           50000   \n",
       "14   N Miami Beach, FL           75000   \n",
       "15          Boston, MA           79000   \n",
       "16          Newark, NJ           85810   \n",
       "17  Pembroke Pines, FL           50000   \n",
       "18        Hato Rey, PR           50000   \n",
       "19       Palo Alto, CA           50000   \n",
       "\n",
       "                                           job_duties  \\\n",
       "0   produce written reports, deliver oral assessme...   \n",
       "1   reviewing and verifying documentation, conduct...   \n",
       "2   Develop, troubleshoot, datasets by use require...   \n",
       "3   document risks, manage deliverable milestones,...   \n",
       "4   develop key performance metrics, help drive ke...   \n",
       "5   standardizing the companies application develo...   \n",
       "6   assist the manager of the Enterprise Data Mana...   \n",
       "7   responsible for deployments and upgrades of Vi...   \n",
       "8   support the asset managers, understand the ass...   \n",
       "9   convert complex data and findings into present...   \n",
       "10  design and document dashboards and reports, cr...   \n",
       "11  responsible for systems management, gather, co...   \n",
       "12  practice data visualization and modeling techn...   \n",
       "13  provide data assessment, measure performance t...   \n",
       "14  responsible for instituting new policies, inst...   \n",
       "15  design & develop Business Intelligence softwar...   \n",
       "16   gather evidence and intelligence, developing ...   \n",
       "17  creating reports and dashboards and visualizat...   \n",
       "18  gather business results, process financial dat...   \n",
       "19  identify and create new qualified opportunitie...   \n",
       "\n",
       "                                      required_skills  min_yrs_exp min_lvl_ed  \\\n",
       "0          strong critical thinking, problem solving             0   Bachelor   \n",
       "1   excellent organization, time management, commu...            3         HS   \n",
       "2     knowledge of MS Windows 7 and /or MS Windows 10            2   Bachelor   \n",
       "3   good project working skills, working in teams,...            3       None   \n",
       "4   Familiarity with Data Visualization best pract...            6  Bachelor    \n",
       "5   knowledge of SQL, Stored Procedures, Functions...            5  Bachelor    \n",
       "6   Experience/education in Business Analysis, Com...            0  Bachelor    \n",
       "7                                    knowledge of SQL            0  Bachelor    \n",
       "8   analytical skills, problem solving, financial ...            2  Bachelor    \n",
       "9   advanced proficiency using technology, knowled...            3  Bachelor    \n",
       "10  driven, results oriented, comfortable working ...            3  Bachelor    \n",
       "11      knowledge of SQL, good project working skills            2  Bachelor    \n",
       "12  CBIP credential, California driver's license, ...            3  Bachelor    \n",
       "13  financial reporting, statistics and regression...            0  Bachelor    \n",
       "14  experience with Domo or Tableau, ability to co...            3  Bachelor    \n",
       "15  knowledge of SQL, 3 years’ experience working ...            4  Bachelor    \n",
       "16  You must be a United States Citizen or Nationa...            1       None   \n",
       "17  Advanced proficiency in Microsoft Excel, willi...            2       None   \n",
       "18  advanced proficiency using technology, knowing...            1  Bachelor    \n",
       "19  comfortable working directly with decision makers            0  Bachelor    \n",
       "\n",
       "                                                  URL  \n",
       "0   https://www.indeed.com/jobs?q=intelligence%20a...  \n",
       "1   https://www.indeed.com/jobs?q=intelligence%20a...  \n",
       "2   https://www.indeed.com/jobs?q=intelligence%20a...  \n",
       "3   https://www.indeed.com/jobs?q=intelligence%20a...  \n",
       "4   https://www.indeed.com/jobs?q=intelligence%20a...  \n",
       "5   https://www.indeed.com/jobs?q=intelligence%20a...  \n",
       "6   https://www.indeed.com/jobs?q=intelligence%20a...  \n",
       "7   https://www.indeed.com/jobs?q=intelligence%20a...  \n",
       "8   https://www.indeed.com/jobs?q=intelligence%20a...  \n",
       "9   https://www.indeed.com/jobs?q=intelligence%20a...  \n",
       "10  https://www.indeed.com/jobs?q=intelligence%20a...  \n",
       "11  https://www.indeed.com/jobs?q=intelligence%20a...  \n",
       "12  https://www.indeed.com/jobs?q=intelligence%20a...  \n",
       "13  https://www.indeed.com/jobs?q=intelligence%20a...  \n",
       "14  https://www.indeed.com/jobs?q=intelligence%20a...  \n",
       "15  https://www.indeed.com/jobs?q=intelligence%20a...  \n",
       "16  https://www.indeed.com/jobs?q=intelligence%20a...  \n",
       "17  https://www.indeed.com/jobs?q=intelligence%20a...  \n",
       "18  https://www.indeed.com/q-intelligence-analyst-...  \n",
       "19  https://www.indeed.com/jobs?q=intelligence%20a...  "
      ]
     },
     "execution_count": 4,
     "metadata": {},
     "output_type": "execute_result"
    }
   ],
   "source": [
    "import pandas\n",
    "df = pandas.read_excel('jobs_xlfile.xlsx')\n",
    "df [:20]"
   ]
  },
  {
   "cell_type": "markdown",
   "metadata": {},
   "source": [
    "## 2.1: What are the most common job titles?"
   ]
  },
  {
   "cell_type": "code",
   "execution_count": 5,
   "metadata": {
    "scrolled": false
   },
   "outputs": [
    {
     "name": "stdout",
     "output_type": "stream",
     "text": [
      "Business Intelligence Analyst 10\n",
      "Political Analyst 1\n",
      "Intelligence Analyst 1\n",
      "Business Systems Analyst 1\n",
      "Business Intelligence Reporting Analyst (3-5 yrs) US Citizen or green Card 1\n",
      "Delivery Analyst 1\n",
      "Financial Analyst, Asset Management 1\n",
      "Sales and Marketing Analyst 1\n",
      "Systems Analyst 1\n",
      "Investigative Analyst 1\n",
      "Business Development Analyst 1\n"
     ]
    }
   ],
   "source": [
    "from collections import Counter\n",
    "\n",
    "result1 = Counter(job_title_list)\n",
    "\n",
    "for word, count in result1.most_common(20):\n",
    "    print(word,count)"
   ]
  },
  {
   "cell_type": "code",
   "execution_count": 6,
   "metadata": {
    "scrolled": true
   },
   "outputs": [
    {
     "data": {
      "image/png": "[encoded data removed]",
      "text/plain": [
       "<Figure size 432x288 with 1 Axes>"
      ]
     },
     "metadata": {},
     "output_type": "display_data"
    }
   ],
   "source": [
    "plt.pie(result1.values(),labels = result1.keys())\n",
    "plt.show()"
   ]
  },
  {
   "cell_type": "markdown",
   "metadata": {},
   "source": [
    "The most common job title is by far \"Business Intelligence Analyst\" with roughly 50% of all job posts curated with that job title. A pie chart was chosen to vizualize this data to highlight which job titles appeared more frequently compared to the others. "
   ]
  },
  {
   "cell_type": "markdown",
   "metadata": {},
   "source": [
    "## 2.2 Which company posted the most number of jobs?"
   ]
  },
  {
   "cell_type": "code",
   "execution_count": 7,
   "metadata": {},
   "outputs": [
    {
     "name": "stdout",
     "output_type": "stream",
     "text": [
      "CIA 1\n",
      "New York City BUSINESS INTEGRITY COMMISSION 1\n",
      "Matrix Resources 1\n",
      "S&P Global Market Intelligence 1\n",
      "ABQ Finance 1\n",
      "Career Developers 1\n",
      "State of AZ 1\n",
      "VizExplorer 1\n",
      "Security Properties  1\n",
      "Rio Grande 1\n",
      "GrowthLink 1\n",
      "Vox Media 1\n",
      "LA County Office of Education 1\n",
      "Pure Dental Brands 1\n",
      "Arteza.com 1\n",
      "Grand Circle Corporation 1\n",
      "US DOJ 1\n",
      "Datavision Technologies, Inc. 1\n",
      "Oriental Bank 1\n",
      "Edvo 1\n"
     ]
    }
   ],
   "source": [
    "result2 = Counter(company_name_list)\n",
    "\n",
    "for word, count in result2.most_common(20):\n",
    "    print(word,count)"
   ]
  },
  {
   "cell_type": "code",
   "execution_count": 8,
   "metadata": {
    "scrolled": true
   },
   "outputs": [
    {
     "data": {
      "image/png": "[encoded data removed]",
      "text/plain": [
       "<Figure size 432x288 with 1 Axes>"
      ]
     },
     "metadata": {},
     "output_type": "display_data"
    }
   ],
   "source": [
    "plt.pie(result2.values(),labels = result2.keys())\n",
    "plt.show()"
   ]
  },
  {
   "cell_type": "markdown",
   "metadata": {},
   "source": [
    "According to our analysis of the 20 job posts curated there was no job posting that appeared more than once. This highlights high number of companies that are creating this position and diverse amount of fields that Intelligence Analyst can work in. "
   ]
  },
  {
   "cell_type": "markdown",
   "metadata": {},
   "source": [
    "## 2.3 How does the number of job posts vary by days?"
   ]
  },
  {
   "cell_type": "code",
   "execution_count": 9,
   "metadata": {},
   "outputs": [
    {
     "name": "stdout",
     "output_type": "stream",
     "text": [
      "Counter({Timestamp('2019-04-16 00:00:00'): 4, Timestamp('2019-03-10 00:00:00'): 2, Timestamp('2019-03-17 00:00:00'): 2, Timestamp('2019-03-19 00:00:00'): 2, Timestamp('2018-12-25 00:00:00'): 1, Timestamp('2019-03-02 00:00:00'): 1, Timestamp('2019-03-20 00:00:00'): 1, Timestamp('2019-03-28 00:00:00'): 1, Timestamp('2019-04-01 00:00:00'): 1, Timestamp('2019-04-02 00:00:00'): 1, Timestamp('2019-04-03 00:00:00'): 1, Timestamp('2019-04-04 00:00:00'): 1, Timestamp('2019-04-05 00:00:00'): 1, Timestamp('2019-04-08 00:00:00'): 1})\n"
     ]
    }
   ],
   "source": [
    "from collections import Counter\n",
    "result = Counter(df['posted_date'])\n",
    "print(result)"
   ]
  },
  {
   "cell_type": "code",
   "execution_count": 10,
   "metadata": {
    "scrolled": true
   },
   "outputs": [
    {
     "data": {
      "image/png": "[encoded data removed]",
      "text/plain": [
       "<Figure size 1080x216 with 1 Axes>"
      ]
     },
     "metadata": {},
     "output_type": "display_data"
    }
   ],
   "source": [
    "%matplotlib inline\n",
    "import matplotlib.pyplot as plt\n",
    "from matplotlib.pyplot import figure\n",
    "figure(figsize=(15, 3))\n",
    "\n",
    "plt.plot(result.keys(),result.values())\n",
    "plt.show()"
   ]
  },
  {
   "cell_type": "markdown",
   "metadata": {},
   "source": [
    "Based on our analysis of the job posts collected it was determined that the highest number of job posts were from within two weeks of the date that the search was made. There was also a good number of posts from the beginning of the month of March."
   ]
  },
  {
   "cell_type": "markdown",
   "metadata": {},
   "source": [
    "## 2.4 Where are the locations of the jobs?"
   ]
  },
  {
   "cell_type": "code",
   "execution_count": 11,
   "metadata": {
    "scrolled": true
   },
   "outputs": [
    {
     "name": "stdout",
     "output_type": "stream",
     "text": [
      "dict_keys(['Washington, DC', 'Manhattan, NY', 'Phoeniz, AZ', 'Centennial, CO', 'Albuquerque, NM', 'New York, NY', 'San Diego, CA', 'Seattle, WA', 'Albuquerque, NM ', 'Miami, FL', 'Downey, CA', 'St. Petersberg, FL', 'N Miami Beach, FL', 'Boston, MA', 'Newark, NJ', 'Pembroke Pines, FL', 'Hato Rey, PR', 'Palo Alto, CA'])\n"
     ]
    }
   ],
   "source": [
    "word_list = []\n",
    "result5 = Counter(job_location_list)\n",
    "print(result5.keys())"
   ]
  },
  {
   "cell_type": "code",
   "execution_count": 12,
   "metadata": {},
   "outputs": [],
   "source": [
    "import xlwt\n",
    "book = xlrd.open_workbook('jobs_xlfile.xlsx')\n",
    "book = xlwt.Workbook()\n",
    "sheet = book.add_sheet('job_locations_count')\n",
    "i = 0\n",
    "sheet.write(0,0,'common locations')\n",
    "sheet.write(0,1,'count of each')\n",
    "\n",
    "result6 = Counter(word_list)\n",
    "\n",
    "for word, count in result5.most_common(20):\n",
    "    i = i+1\n",
    "    if i> 0:\n",
    "        sheet.write(i,0,word)\n",
    "        sheet.write(i,1,count)\n",
    "        \n",
    "book.save('common_locations_count.xls')\n"
   ]
  },
  {
   "cell_type": "markdown",
   "metadata": {},
   "source": [
    "<img src ='common_job_locations.png'>"
   ]
  },
  {
   "cell_type": "markdown",
   "metadata": {},
   "source": [
    "Based on our analysis the locations of Inteligence Analysis jobs appear to be from all over the United States and Puerto Rico. Since most of the jobs curated were for Competitive Intelligence, the jobs had a large variety of locations in almost every corner of the US. Had the analysis focused on more national security, the locations would probably have been located in the Greater Washington DC area. Indeed.com is a website that only posts jobs for the United States but has other websites for different countries that post jobs for those respective countries.  "
   ]
  },
  {
   "cell_type": "markdown",
   "metadata": {},
   "source": [
    "## 2.5 What is the average minimal salary?"
   ]
  },
  {
   "cell_type": "code",
   "execution_count": 13,
   "metadata": {
    "scrolled": true
   },
   "outputs": [],
   "source": [
    "import numpy as np"
   ]
  },
  {
   "cell_type": "code",
   "execution_count": 14,
   "metadata": {},
   "outputs": [
    {
     "name": "stdout",
     "output_type": "stream",
     "text": [
      "[54308.0, 37217.0, 90000.0, 73000.0, 90000.0, 100000.0, 50890.0, 45000.0, 50000.0, 57000.0, 70000.0, 60000.0, 81864.0, 50000.0, 75000.0, 79000.0, 85810.0, 50000.0, 50000.0, 50000.0]\n"
     ]
    }
   ],
   "source": [
    "print(minimal_salary_list)"
   ]
  },
  {
   "cell_type": "code",
   "execution_count": 15,
   "metadata": {},
   "outputs": [
    {
     "name": "stdout",
     "output_type": "stream",
     "text": [
      "mean minimal salary is 64954.45\n"
     ]
    }
   ],
   "source": [
    "print('mean minimal salary is {}'.format(np.mean(minimal_salary_list)))"
   ]
  },
  {
   "cell_type": "markdown",
   "metadata": {},
   "source": [
    "The average minimal salary from all the jobs collected is $64,954.45."
   ]
  },
  {
   "cell_type": "markdown",
   "metadata": {},
   "source": [
    "## 2.6 What is the average minimal years of experience?"
   ]
  },
  {
   "cell_type": "code",
   "execution_count": 16,
   "metadata": {},
   "outputs": [
    {
     "name": "stdout",
     "output_type": "stream",
     "text": [
      "[0.0, 3.0, 2.0, 3.0, 6.0, 5.0, 0.0, 0.0, 2.0, 3.0, 3.0, 2.0, 3.0, 0.0, 3.0, 4.0, 1.0, 2.0, 1.0, 0.0]\n"
     ]
    }
   ],
   "source": [
    "print(min_yrs_exp_list)"
   ]
  },
  {
   "cell_type": "code",
   "execution_count": 17,
   "metadata": {},
   "outputs": [
    {
     "name": "stdout",
     "output_type": "stream",
     "text": [
      "mean min exp is 2.15\n"
     ]
    }
   ],
   "source": [
    "print('mean min exp is {}'.format(np.mean(min_yrs_exp_list)))"
   ]
  },
  {
   "cell_type": "markdown",
   "metadata": {},
   "source": [
    "Based on our analysis of the jobs collected, the average minimum years of experience is 2.15 years. "
   ]
  },
  {
   "cell_type": "markdown",
   "metadata": {},
   "source": [
    "## 2.7 How are years of experience related to the salaries?"
   ]
  },
  {
   "cell_type": "code",
   "execution_count": 18,
   "metadata": {},
   "outputs": [
    {
     "name": "stdout",
     "output_type": "stream",
     "text": [
      "0.002395399900614948\n",
      "6737.606542882401\n",
      "50468.59593280283\n",
      "0.4089888617532538\n"
     ]
    }
   ],
   "source": [
    "import numpy as np\n",
    "from scipy import stats\n",
    "\n",
    "\n",
    "result1 = stats.linregress(min_yrs_exp_list,minimal_salary_list)\n",
    "\n",
    "print (result1.pvalue)\n",
    "print (result1.slope)\n",
    "print (result1.intercept)\n",
    "print (result1.rvalue * result1.rvalue)"
   ]
  },
  {
   "cell_type": "code",
   "execution_count": 19,
   "metadata": {},
   "outputs": [
    {
     "name": "stdout",
     "output_type": "stream",
     "text": [
      "the cor years experience and salary is 0.6395223700178546\n"
     ]
    }
   ],
   "source": [
    "print('the cor years experience and salary is {}'.format(np.corrcoef(min_yrs_exp_list,minimal_salary_list)[0][1]))"
   ]
  },
  {
   "cell_type": "code",
   "execution_count": 20,
   "metadata": {},
   "outputs": [],
   "source": [
    "%matplotlib inline"
   ]
  },
  {
   "cell_type": "code",
   "execution_count": 21,
   "metadata": {},
   "outputs": [],
   "source": [
    "import matplotlib.pyplot as plt"
   ]
  },
  {
   "cell_type": "code",
   "execution_count": 22,
   "metadata": {
    "scrolled": true
   },
   "outputs": [
    {
     "data": {
      "image/png": "[encoded data removed]",
      "text/plain": [
       "<Figure size 432x288 with 1 Axes>"
      ]
     },
     "metadata": {},
     "output_type": "display_data"
    }
   ],
   "source": [
    "plt.scatter(min_yrs_exp_list,minimal_salary_list,)\n",
    "plt.xlabel('min_yrs_exp_list')\n",
    "plt.ylabel('minimal_salary_list')\n",
    "plt.show()"
   ]
  },
  {
   "cell_type": "markdown",
   "metadata": {},
   "source": [
    "Based on the job posts that we collected, the minimum years of experience and the minimal salaries are related.The correlation value is .640 meaning that there is a positive relationship between the two. The pvalue is .002 which means that the correlation is statistically significant. The slope is 6737.607 which means that for every year of experience increase, the minimal salary increases by $6,737.Lastly, the r value is .410 which means that the linear realtionship between the two variables is somewhat weak."
   ]
  },
  {
   "cell_type": "markdown",
   "metadata": {},
   "source": [
    "## 2.8 What are the common job duties?"
   ]
  },
  {
   "cell_type": "code",
   "execution_count": 23,
   "metadata": {},
   "outputs": [
    {
     "name": "stdout",
     "output_type": "stream",
     "text": [
      "produce written reports, deliver oral assessments, analyze domestic and foreign politics \n",
      "reviewing and verifying documentation, conducting database and online searches, compiling and analyzing research, preparing intelligence reports and charts, presenting case findings\n",
      "Develop, troubleshoot, datasets by use requirements analysis,use design techniques\n",
      "document risks, manage deliverable milestones, communicate out and up to stakeholders, focus on continuous improvement\n",
      "develop key performance metrics, help drive key business decisions, use data compiling/modeling/reporting/automation\n",
      "standardizing the companies application development environment, provide strategic coordination and tactical governance, provide analysis of new and existing applications\n",
      "assist the manager of the Enterprise Data Management Office with the routine tasks, maintain current enterprise data management practices, implement new ones.\n",
      "responsible for deployments and upgrades of VizExplorer software \n",
      "support the asset managers, understand the assets/partners/business strategy/challenges,\r",
      "ensure monthly calls are held with each property manager to review strategy\n",
      "convert complex data and findings into presentations, interpret data, analyze results using statistical techniques, provide regular reports\n",
      "design and document dashboards and reports, create and distribute analysis reports in written and verbal form to a variety of audiences, contribute with continuous improvement efforts\n",
      "responsible for systems management, gather, configure, test, train, support post deployment, provide visibility\n",
      "practice data visualization and modeling techniques\n",
      "provide data assessment, measure performance to support management decisions, provide reports/graphs/professional presentations\n",
      "responsible for instituting new policies, institute new procedures, support new programs, process several different types of data\n",
      "design & develop Business Intelligence software engineering solutions, help decision support\n",
      " gather evidence and intelligence, developing investigative policies, techniques, and procedures\n",
      "creating reports and dashboards and visualizations, provide the training and support required to help them get the most out of their data\n",
      "gather business results, process financial data, translate findings into reports, drive strategic business decisions, identify customer trends and deviations, support projects and targeted initiatives\n",
      "identify and create new qualified opportunities for your Account Executive counterparts, reach out to potential buyers, qualify active buying interest, identify critical decision makers\n"
     ]
    }
   ],
   "source": [
    "for duty in df['job_duties']:\n",
    "    print (duty)"
   ]
  },
  {
   "cell_type": "code",
   "execution_count": 24,
   "metadata": {},
   "outputs": [
    {
     "name": "stdout",
     "output_type": "stream",
     "text": [
      "identify and create new qualified opportunities for your Account Executive counterparts, reach out to potential buyers, qualify active buying interest, identify critical decision makersgather business results, process financial data, translate findings into reports, drive strategic business decisions, identify customer trends and deviations, support projects and targeted initiativescreating reports and dashboards and visualizations, provide the training and support required to help them get the most out of their data gather evidence and intelligence, developing investigative policies, techniques, and proceduresdesign & develop Business Intelligence software engineering solutions, help decision supportresponsible for instituting new policies, institute new procedures, support new programs, process several different types of dataprovide data assessment, measure performance to support management decisions, provide reports/graphs/professional presentationspractice data visualization and modeling techniquesresponsible for systems management, gather, configure, test, train, support post deployment, provide visibilitydesign and document dashboards and reports, create and distribute analysis reports in written and verbal form to a variety of audiences, contribute with continuous improvement effortsconvert complex data and findings into presentations, interpret data, analyze results using statistical techniques, provide regular reportssupport the asset managers, understand the assets/partners/business strategy/challenges,\r",
      "ensure monthly calls are held with each property manager to review strategyresponsible for deployments and upgrades of VizExplorer software assist the manager of the Enterprise Data Management Office with the routine tasks, maintain current enterprise data management practices, implement new ones.standardizing the companies application development environment, provide strategic coordination and tactical governance, provide analysis of new and existing applicationsdevelop key performance metrics, help drive key business decisions, use data compiling/modeling/reporting/automationdocument risks, manage deliverable milestones, communicate out and up to stakeholders, focus on continuous improvementDevelop, troubleshoot, datasets by use requirements analysis,use design techniquesreviewing and verifying documentation, conducting database and online searches, compiling and analyzing research, preparing intelligence reports and charts, presenting case findingsproduce written reports, deliver oral assessments, analyze domestic and foreign politics \n"
     ]
    }
   ],
   "source": [
    "duties =''\n",
    "for duty in df['job_duties']:\n",
    "    duties = duty + duties\n",
    "print (duties)"
   ]
  },
  {
   "cell_type": "code",
   "execution_count": 25,
   "metadata": {
    "scrolled": true
   },
   "outputs": [],
   "source": [
    "import xlwt\n",
    "import nltk\n",
    "import pandas\n",
    "\n",
    "from collections import Counter        \n",
    "from nltk.corpus import stopwords\n",
    "stop = set(stopwords.words('english'))\n",
    "\n",
    "book = xlwt.Workbook()\n",
    "sheet_test = book.add_sheet('word_count') \n",
    "i = 0\n",
    "\n",
    "sheet_test.write(i,0,'word') \n",
    "sheet_test.write(i,1,'count') \n",
    "sheet_test.write(i,2,'ratio') \n",
    "\n",
    "word_list = [i for i in duties.lower().split() if i not in stop]\n",
    "word_total = word_list.__len__()\n",
    "\n",
    "\n",
    "count_result6 =  Counter(word_list)\n",
    "for result in count_result6.most_common(20):\n",
    "    i = i+1 \n",
    "    sheet_test.write(i,0,result[0])\n",
    "    sheet_test.write(i,1,result[1])\n",
    "    sheet_test.write(i,2,(result[1]/word_total))\n",
    "\n",
    "book.save('common_job_duties_count.xls')"
   ]
  },
  {
   "cell_type": "markdown",
   "metadata": {},
   "source": [
    "<img src = 'duties.png'>"
   ]
  },
  {
   "cell_type": "markdown",
   "metadata": {},
   "source": [
    "Based the analysis of the 20 job postings curated the most common job duties that appeared were finding and reporting intelligence based on collected data using software and design to adequately analyze and aid decision-makers. Many stated their jobs would work directly with management."
   ]
  },
  {
   "cell_type": "markdown",
   "metadata": {},
   "source": [
    "## 2.9 What are the common skills?"
   ]
  },
  {
   "cell_type": "code",
   "execution_count": 26,
   "metadata": {},
   "outputs": [
    {
     "name": "stdout",
     "output_type": "stream",
     "text": [
      "strong critical thinking, problem solving \n",
      "excellent organization, time management, communication, analytical, fast-learner\n",
      "knowledge of MS Windows 7 and /or MS Windows 10\n",
      "good project working skills, working in teams, communication with decision-makers,  analysis Skills (Includes basic Data analysis, Databases and SQL), communication skills (presentational, active listening, ability to build consensus, buy-in and support across functions and at all levels)\n",
      "Familiarity with Data Visualization best practices, experience with data cleaning\n",
      "knowledge of SQL, Stored Procedures, Functions and Indexes.\n",
      "Experience/education in Business Analysis, Computer Science or related fields.\n",
      "knowledge of SQL\n",
      "analytical skills, problem solving, financial analytical skills, statistical analysis, advanced proficiency using technology\n",
      "advanced proficiency using technology, knowledge of SQL\n",
      "driven, results oriented, comfortable working directly with decision makers,  strong quantitative analytical skills\n",
      "knowledge of SQL, good project working skills\n",
      "CBIP credential, California driver's license, private transportation\n",
      "financial reporting, statistics and regression analysis \n",
      "experience with Domo or Tableau, ability to communicate directly with the Executive team, strong analytical, quantitative, problem solving, and organizational skills,attention to detail\n",
      "knowledge of SQL, 3 years’ experience working with Oracle, Toad, & Java Scripting\n",
      "You must be a United States Citizen or National, background investigation, credit check, and drug test required.\n",
      "Advanced proficiency in Microsoft Excel, willingness to learn, autodidacticism \n",
      "advanced proficiency using technology, knowing how to use MS Office is required, communication, fluency in English, fluency in Spanish\n",
      "comfortable working directly with decision makers\n"
     ]
    }
   ],
   "source": [
    "for duty in df['required_skills']:\n",
    "    print (duty)"
   ]
  },
  {
   "cell_type": "code",
   "execution_count": 27,
   "metadata": {},
   "outputs": [
    {
     "name": "stdout",
     "output_type": "stream",
     "text": [
      "comfortable working directly with decision makersadvanced proficiency using technology, knowing how to use MS Office is required, communication, fluency in English, fluency in SpanishAdvanced proficiency in Microsoft Excel, willingness to learn, autodidacticism You must be a United States Citizen or National, background investigation, credit check, and drug test required.knowledge of SQL, 3 years’ experience working with Oracle, Toad, & Java Scriptingexperience with Domo or Tableau, ability to communicate directly with the Executive team, strong analytical, quantitative, problem solving, and organizational skills,attention to detailfinancial reporting, statistics and regression analysis CBIP credential, California driver's license, private transportationknowledge of SQL, good project working skillsdriven, results oriented, comfortable working directly with decision makers,  strong quantitative analytical skillsadvanced proficiency using technology, knowledge of SQLanalytical skills, problem solving, financial analytical skills, statistical analysis, advanced proficiency using technologyknowledge of SQLExperience/education in Business Analysis, Computer Science or related fields.knowledge of SQL, Stored Procedures, Functions and Indexes.Familiarity with Data Visualization best practices, experience with data cleaninggood project working skills, working in teams, communication with decision-makers,  analysis Skills (Includes basic Data analysis, Databases and SQL), communication skills (presentational, active listening, ability to build consensus, buy-in and support across functions and at all levels)knowledge of MS Windows 7 and /or MS Windows 10excellent organization, time management, communication, analytical, fast-learnerstrong critical thinking, problem solving \n"
     ]
    }
   ],
   "source": [
    "skills =''\n",
    "for skill in df['required_skills']:\n",
    "    skills = skill + skills\n",
    "print (skills)"
   ]
  },
  {
   "cell_type": "code",
   "execution_count": 28,
   "metadata": {},
   "outputs": [],
   "source": [
    "import xlwt        \n",
    "from collections import Counter        \n",
    "from nltk.corpus import stopwords\n",
    "stop = set(stopwords.words('english'))\n",
    "\n",
    "book = xlwt.Workbook()\n",
    "sheet_test = book.add_sheet('word_count') \n",
    "i = 0\n",
    "\n",
    "sheet_test.write(i,0,'word') \n",
    "sheet_test.write(i,1,'count') \n",
    "sheet_test.write(i,2,'ratio') \n",
    "\n",
    "word_list = [i for i in skills.lower().split() if i not in stop]\n",
    "word_total = word_list.__len__()\n",
    "\n",
    "\n",
    "count_result7 =  Counter(word_list)\n",
    "for result in count_result7.most_common(20):\n",
    "    i = i+1 \n",
    "    sheet_test.write(i,0,result[0])\n",
    "    sheet_test.write(i,1,result[1])\n",
    "    sheet_test.write(i,2,(result[1]/word_total))\n",
    "\n",
    "book.save('common_job_skills_count.xls')"
   ]
  },
  {
   "cell_type": "markdown",
   "metadata": {},
   "source": [
    "<img src = 'skills.png'>"
   ]
  },
  {
   "cell_type": "markdown",
   "metadata": {},
   "source": [
    "Based on our analysis, the most common job skills that were required were problem solving, data analysis and visualization, communication, analytical skills, and many wanted knowledge or ability to learn fast how to use programs like SQL. Our program was albe to adequately represent the skills in a word cloud but separated words that belonged together such as \"Problem\" and \"Solving\""
   ]
  },
  {
   "cell_type": "markdown",
   "metadata": {},
   "source": [
    "## Conclusion\n",
    "\n",
    "There are limitations to our project in the sense that with our current knowledge of Python, we were unable to perform more advanced analyses of the data that could have been helpful to understanding the job market for intelligence analysts. Because of this, our project may not be representative of available intelligence analysis jobs as a whole. However, we could improve this by gathering more data, finding job posts from a larger variety of sites, and using more variation in our search criteria. "
   ]
  }
 ],
 "metadata": {
  "kernelspec": {
   "display_name": "Python 3",
   "language": "python",
   "name": "python3"
  },
  "language_info": {
   "codemirror_mode": {
    "name": "ipython",
    "version": 3
   },
   "file_extension": ".py",
   "mimetype": "text/x-python",
   "name": "python",
   "nbconvert_exporter": "python",
   "pygments_lexer": "ipython3",
   "version": "3.6.5"
  }
 },
 "nbformat": 4,
 "nbformat_minor": 2
}
