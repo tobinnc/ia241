{
 "cells": [
  {
   "cell_type": "code",
   "execution_count": 1,
   "metadata": {
    "collapsed": false,
    "deletable": true,
    "editable": true
   },
   "outputs": [
    {
     "name": "stdout",
     "output_type": "stream",
     "text": [
      "Requirement already satisfied: psycopg2 in c:\\programdata\\anaconda3\\lib\\site-packages (2.8.3)\n"
     ]
    }
   ],
   "source": [
    "!pip install psycopg2"
   ]
  },
  {
   "cell_type": "code",
   "execution_count": 2,
   "metadata": {
    "collapsed": true,
    "deletable": true,
    "editable": true
   },
   "outputs": [],
   "source": [
    "import pandas \n",
    "import configparser\n",
    "import psycopg2"
   ]
  },
  {
   "cell_type": "code",
   "execution_count": 3,
   "metadata": {
    "collapsed": true,
    "deletable": true,
    "editable": true
   },
   "outputs": [],
   "source": [
    "config = configparser.ConfigParser()\n",
    "config.read('config.ini')\n",
    "\n",
    "host = config['myaws']['host']\n",
    "user = config['myaws']['user']\n",
    "pwd = config['myaws']['pwd']\n",
    "database = config['myaws']['database']"
   ]
  },
  {
   "cell_type": "code",
   "execution_count": 4,
   "metadata": {
    "collapsed": true,
    "deletable": true,
    "editable": true
   },
   "outputs": [],
   "source": [
    "conn = psycopg2.connect(\n",
    "                        host = host,\n",
    "                        user = user,\n",
    "                    password = pwd,\n",
    "                      dbname = database\n",
    ")"
   ]
  },
  {
   "cell_type": "code",
   "execution_count": 5,
   "metadata": {
    "collapsed": true,
    "deletable": true,
    "editable": true
   },
   "outputs": [],
   "source": [
    "cur = conn.cursor()"
   ]
  },
  {
   "cell_type": "markdown",
   "metadata": {
    "deletable": true,
    "editable": true
   },
   "source": [
    "## Q1"
   ]
  },
  {
   "cell_type": "code",
   "execution_count": 6,
   "metadata": {
    "collapsed": true,
    "deletable": true,
    "editable": true
   },
   "outputs": [],
   "source": [
    "sql_statement = '''\n",
    "                select * from student_g10\n",
    "                \n",
    "                '''"
   ]
  },
  {
   "cell_type": "code",
   "execution_count": 7,
   "metadata": {
    "collapsed": true,
    "deletable": true,
    "editable": true
   },
   "outputs": [],
   "source": [
    "cur.execute(sql_statement)"
   ]
  },
  {
   "cell_type": "code",
   "execution_count": 8,
   "metadata": {
    "collapsed": false,
    "deletable": true,
    "editable": true
   },
   "outputs": [
    {
     "data": {
      "text/plain": [
       "('tobinnc@dukes.jmu.edu                                                                               ',\n",
       " 'Natalie Tobin                                                                                       ',\n",
       " 'Intelligence Analysis                                                                               ')"
      ]
     },
     "execution_count": 8,
     "metadata": {},
     "output_type": "execute_result"
    }
   ],
   "source": [
    "cur.fetchone()"
   ]
  },
  {
   "cell_type": "code",
   "execution_count": 9,
   "metadata": {
    "collapsed": false,
    "deletable": true,
    "editable": true
   },
   "outputs": [
    {
     "name": "stdout",
     "output_type": "stream",
     "text": [
      "('santicm@dukes.jmu.edu                                                                               ', 'Chris Santi                                                                                         ', 'Intelligence Analysis\\n                                                                              ')\n",
      "('dovalamm@dukes.jmu.edu                                                                              ', 'Morgan Dovala\\n                                                                                      ', 'Intelligence Analysis                                                                               ')\n",
      "('topacinv@dukes.jmu.edu                                                                              ', 'Daniel Topacio                                                                                      ', 'Intelligence Analysis                                                                               ')\n",
      "('orschaa@dukes.jmu.edu                                                                               ', 'Alexa Orosch                                                                                        ', 'Geographic Science\\n                                                                                 ')\n"
     ]
    }
   ],
   "source": [
    "for result in cur.fetchall():\n",
    "    print(result)"
   ]
  },
  {
   "cell_type": "code",
   "execution_count": 10,
   "metadata": {
    "collapsed": false,
    "deletable": true,
    "editable": true,
    "scrolled": true
   },
   "outputs": [
    {
     "data": {
      "text/html": [
       "<div>\n",
       "<style scoped>\n",
       "    .dataframe tbody tr th:only-of-type {\n",
       "        vertical-align: middle;\n",
       "    }\n",
       "\n",
       "    .dataframe tbody tr th {\n",
       "        vertical-align: top;\n",
       "    }\n",
       "\n",
       "    .dataframe thead th {\n",
       "        text-align: right;\n",
       "    }\n",
       "</style>\n",
       "<table border=\"1\" class=\"dataframe\">\n",
       "  <thead>\n",
       "    <tr style=\"text-align: right;\">\n",
       "      <th></th>\n",
       "      <th>email</th>\n",
       "      <th>name</th>\n",
       "      <th>major</th>\n",
       "    </tr>\n",
       "  </thead>\n",
       "  <tbody>\n",
       "    <tr>\n",
       "      <th>0</th>\n",
       "      <td>tobinnc@dukes.jmu.edu                         ...</td>\n",
       "      <td>Natalie Tobin                                 ...</td>\n",
       "      <td>Intelligence Analysis                         ...</td>\n",
       "    </tr>\n",
       "    <tr>\n",
       "      <th>1</th>\n",
       "      <td>santicm@dukes.jmu.edu                         ...</td>\n",
       "      <td>Chris Santi                                   ...</td>\n",
       "      <td>Intelligence Analysis\\n                       ...</td>\n",
       "    </tr>\n",
       "    <tr>\n",
       "      <th>2</th>\n",
       "      <td>dovalamm@dukes.jmu.edu                        ...</td>\n",
       "      <td>Morgan Dovala\\n                               ...</td>\n",
       "      <td>Intelligence Analysis                         ...</td>\n",
       "    </tr>\n",
       "    <tr>\n",
       "      <th>3</th>\n",
       "      <td>topacinv@dukes.jmu.edu                        ...</td>\n",
       "      <td>Daniel Topacio                                ...</td>\n",
       "      <td>Intelligence Analysis                         ...</td>\n",
       "    </tr>\n",
       "    <tr>\n",
       "      <th>4</th>\n",
       "      <td>orschaa@dukes.jmu.edu                         ...</td>\n",
       "      <td>Alexa Orosch                                  ...</td>\n",
       "      <td>Geographic Science\\n                          ...</td>\n",
       "    </tr>\n",
       "  </tbody>\n",
       "</table>\n",
       "</div>"
      ],
      "text/plain": [
       "                                               email  \\\n",
       "0  tobinnc@dukes.jmu.edu                         ...   \n",
       "1  santicm@dukes.jmu.edu                         ...   \n",
       "2  dovalamm@dukes.jmu.edu                        ...   \n",
       "3  topacinv@dukes.jmu.edu                        ...   \n",
       "4  orschaa@dukes.jmu.edu                         ...   \n",
       "\n",
       "                                                name  \\\n",
       "0  Natalie Tobin                                 ...   \n",
       "1  Chris Santi                                   ...   \n",
       "2  Morgan Dovala\\n                               ...   \n",
       "3  Daniel Topacio                                ...   \n",
       "4  Alexa Orosch                                  ...   \n",
       "\n",
       "                                               major  \n",
       "0  Intelligence Analysis                         ...  \n",
       "1  Intelligence Analysis\\n                       ...  \n",
       "2  Intelligence Analysis                         ...  \n",
       "3  Intelligence Analysis                         ...  \n",
       "4  Geographic Science\\n                          ...  "
      ]
     },
     "execution_count": 10,
     "metadata": {},
     "output_type": "execute_result"
    }
   ],
   "source": [
    "df = pandas.read_sql_query(sql_statement,conn)\n",
    "df[:]"
   ]
  },
  {
   "cell_type": "code",
   "execution_count": 11,
   "metadata": {
    "collapsed": false,
    "deletable": true,
    "editable": true
   },
   "outputs": [
    {
     "data": {
      "text/html": [
       "<div>\n",
       "<style scoped>\n",
       "    .dataframe tbody tr th:only-of-type {\n",
       "        vertical-align: middle;\n",
       "    }\n",
       "\n",
       "    .dataframe tbody tr th {\n",
       "        vertical-align: top;\n",
       "    }\n",
       "\n",
       "    .dataframe thead th {\n",
       "        text-align: right;\n",
       "    }\n",
       "</style>\n",
       "<table border=\"1\" class=\"dataframe\">\n",
       "  <thead>\n",
       "    <tr style=\"text-align: right;\">\n",
       "      <th></th>\n",
       "      <th>email</th>\n",
       "      <th>name</th>\n",
       "      <th>major</th>\n",
       "    </tr>\n",
       "  </thead>\n",
       "  <tbody>\n",
       "    <tr>\n",
       "      <th>count</th>\n",
       "      <td>5</td>\n",
       "      <td>5</td>\n",
       "      <td>5</td>\n",
       "    </tr>\n",
       "    <tr>\n",
       "      <th>unique</th>\n",
       "      <td>5</td>\n",
       "      <td>5</td>\n",
       "      <td>3</td>\n",
       "    </tr>\n",
       "    <tr>\n",
       "      <th>top</th>\n",
       "      <td>orschaa@dukes.jmu.edu                         ...</td>\n",
       "      <td>Alexa Orosch                                  ...</td>\n",
       "      <td>Intelligence Analysis                         ...</td>\n",
       "    </tr>\n",
       "    <tr>\n",
       "      <th>freq</th>\n",
       "      <td>1</td>\n",
       "      <td>1</td>\n",
       "      <td>3</td>\n",
       "    </tr>\n",
       "  </tbody>\n",
       "</table>\n",
       "</div>"
      ],
      "text/plain": [
       "                                                    email  \\\n",
       "count                                                   5   \n",
       "unique                                                  5   \n",
       "top     orschaa@dukes.jmu.edu                         ...   \n",
       "freq                                                    1   \n",
       "\n",
       "                                                     name  \\\n",
       "count                                                   5   \n",
       "unique                                                  5   \n",
       "top     Alexa Orosch                                  ...   \n",
       "freq                                                    1   \n",
       "\n",
       "                                                    major  \n",
       "count                                                   5  \n",
       "unique                                                  3  \n",
       "top     Intelligence Analysis                         ...  \n",
       "freq                                                    3  "
      ]
     },
     "execution_count": 11,
     "metadata": {},
     "output_type": "execute_result"
    }
   ],
   "source": [
    "df.describe()"
   ]
  },
  {
   "cell_type": "markdown",
   "metadata": {
    "deletable": true,
    "editable": true
   },
   "source": [
    "## Q2"
   ]
  },
  {
   "cell_type": "code",
   "execution_count": 12,
   "metadata": {
    "collapsed": true,
    "deletable": true,
    "editable": true
   },
   "outputs": [],
   "source": [
    "sql_statement2 = '''\n",
    "                select\n",
    "                cname, count(semail)\n",
    "                from enroll_g10\n",
    "                group by cname\n",
    "                order by count(cname) desc\n",
    "                '''"
   ]
  },
  {
   "cell_type": "code",
   "execution_count": 13,
   "metadata": {
    "collapsed": true,
    "deletable": true,
    "editable": true,
    "scrolled": false
   },
   "outputs": [],
   "source": [
    "cur.execute(sql_statement2)"
   ]
  },
  {
   "cell_type": "code",
   "execution_count": 14,
   "metadata": {
    "collapsed": false,
    "deletable": true,
    "editable": true
   },
   "outputs": [
    {
     "data": {
      "text/plain": [
       "('IA 300                                                                                              ',\n",
       " 2)"
      ]
     },
     "execution_count": 14,
     "metadata": {},
     "output_type": "execute_result"
    }
   ],
   "source": [
    "cur.fetchone()"
   ]
  },
  {
   "cell_type": "code",
   "execution_count": 15,
   "metadata": {
    "collapsed": false,
    "deletable": true,
    "editable": true
   },
   "outputs": [
    {
     "name": "stdout",
     "output_type": "stream",
     "text": [
      "('IA 341                                                                                              ', 1)\n",
      "('IA 313                                                                                              ', 1)\n",
      "('IA 459                                                                                              ', 1)\n"
     ]
    }
   ],
   "source": [
    "for result in cur.fetchall():\n",
    "    print (result)"
   ]
  },
  {
   "cell_type": "code",
   "execution_count": 16,
   "metadata": {
    "collapsed": false,
    "deletable": true,
    "editable": true
   },
   "outputs": [
    {
     "data": {
      "text/html": [
       "<div>\n",
       "<style scoped>\n",
       "    .dataframe tbody tr th:only-of-type {\n",
       "        vertical-align: middle;\n",
       "    }\n",
       "\n",
       "    .dataframe tbody tr th {\n",
       "        vertical-align: top;\n",
       "    }\n",
       "\n",
       "    .dataframe thead th {\n",
       "        text-align: right;\n",
       "    }\n",
       "</style>\n",
       "<table border=\"1\" class=\"dataframe\">\n",
       "  <thead>\n",
       "    <tr style=\"text-align: right;\">\n",
       "      <th></th>\n",
       "      <th>cname</th>\n",
       "      <th>count</th>\n",
       "    </tr>\n",
       "  </thead>\n",
       "  <tbody>\n",
       "    <tr>\n",
       "      <th>0</th>\n",
       "      <td>IA 300                                        ...</td>\n",
       "      <td>2</td>\n",
       "    </tr>\n",
       "    <tr>\n",
       "      <th>1</th>\n",
       "      <td>IA 341                                        ...</td>\n",
       "      <td>1</td>\n",
       "    </tr>\n",
       "    <tr>\n",
       "      <th>2</th>\n",
       "      <td>IA 313                                        ...</td>\n",
       "      <td>1</td>\n",
       "    </tr>\n",
       "    <tr>\n",
       "      <th>3</th>\n",
       "      <td>IA 459                                        ...</td>\n",
       "      <td>1</td>\n",
       "    </tr>\n",
       "  </tbody>\n",
       "</table>\n",
       "</div>"
      ],
      "text/plain": [
       "                                               cname  count\n",
       "0  IA 300                                        ...      2\n",
       "1  IA 341                                        ...      1\n",
       "2  IA 313                                        ...      1\n",
       "3  IA 459                                        ...      1"
      ]
     },
     "execution_count": 16,
     "metadata": {},
     "output_type": "execute_result"
    }
   ],
   "source": [
    "df = pandas.read_sql_query(sql_statement2,conn)\n",
    "df[:]"
   ]
  },
  {
   "cell_type": "markdown",
   "metadata": {
    "deletable": true,
    "editable": true
   },
   "source": [
    "IA 300 has the most students enrolled"
   ]
  },
  {
   "cell_type": "markdown",
   "metadata": {
    "deletable": true,
    "editable": true
   },
   "source": [
    "## Q3"
   ]
  },
  {
   "cell_type": "code",
   "execution_count": 17,
   "metadata": {
    "collapsed": true,
    "deletable": true,
    "editable": true
   },
   "outputs": [],
   "source": [
    "sql_statement3 = '''\n",
    "                select * from teacher_g10\n",
    "                inner join course_10\n",
    "                on teacher_g10.email = course_10.temail\n",
    "                '''"
   ]
  },
  {
   "cell_type": "code",
   "execution_count": 18,
   "metadata": {
    "collapsed": true,
    "deletable": true,
    "editable": true
   },
   "outputs": [],
   "source": [
    "cur.execute(sql_statement3)"
   ]
  },
  {
   "cell_type": "code",
   "execution_count": 19,
   "metadata": {
    "collapsed": false,
    "deletable": true,
    "editable": true
   },
   "outputs": [
    {
     "data": {
      "text/plain": [
       "('weixx@jmu.edu                                                                                       ',\n",
       " 'Xuebin Wei                                                                                          ',\n",
       " 'isat112             ',\n",
       " 'IA 341                                                                                              ',\n",
       " 'Engeo2201           ',\n",
       " 'weixx@jmu.edu                                                                                       ')"
      ]
     },
     "execution_count": 19,
     "metadata": {},
     "output_type": "execute_result"
    }
   ],
   "source": [
    "cur.fetchone()"
   ]
  },
  {
   "cell_type": "code",
   "execution_count": 20,
   "metadata": {
    "collapsed": false,
    "deletable": true,
    "editable": true
   },
   "outputs": [
    {
     "name": "stdout",
     "output_type": "stream",
     "text": [
      "('taoqx@jmu.edu                                                                                       ', 'Tom Tao                                                                                             ', 'isat116             ', 'IA 300                                                                                              ', 'Engeo2202           ', 'taoqx@jmu.edu                                                                                       ')\n",
      "('moore8ka@jmu.edu                                                                                    ', 'Kathleen Moore                                                                                      ', 'engeo114            ', 'IA 261                                                                                              ', 'Engeo2204           ', 'moore8ka@jmu.edu                                                                                    ')\n",
      "('hendrinx@jmu.edu                                                                                    ', 'Noel Hendrickson                                                                                    ', 'engeo110            ', 'IA 313                                                                                              ', 'Engeo2205           ', 'hendrinx@jmu.edu                                                                                    ')\n",
      "('ronbj@jmu.edu                                                                                       ', 'Ron Burgundy                                                                                        ', 'isat069             ', 'IA 378                                                                                              ', 'Mu305               ', 'ronbj@jmu.edu                                                                                       ')\n",
      "('ronbj@jmu.edu                                                                                       ', 'Ron Burgundy                                                                                        ', 'isat069             ', 'IA 459                                                                                              ', 'Isat300             ', 'ronbj@jmu.edu                                                                                       ')\n"
     ]
    }
   ],
   "source": [
    "for result in cur.fetchall():\n",
    "    print(result)"
   ]
  },
  {
   "cell_type": "code",
   "execution_count": 21,
   "metadata": {
    "collapsed": false,
    "deletable": true,
    "editable": true
   },
   "outputs": [
    {
     "data": {
      "text/html": [
       "<div>\n",
       "<style scoped>\n",
       "    .dataframe tbody tr th:only-of-type {\n",
       "        vertical-align: middle;\n",
       "    }\n",
       "\n",
       "    .dataframe tbody tr th {\n",
       "        vertical-align: top;\n",
       "    }\n",
       "\n",
       "    .dataframe thead th {\n",
       "        text-align: right;\n",
       "    }\n",
       "</style>\n",
       "<table border=\"1\" class=\"dataframe\">\n",
       "  <thead>\n",
       "    <tr style=\"text-align: right;\">\n",
       "      <th></th>\n",
       "      <th>email</th>\n",
       "      <th>name</th>\n",
       "      <th>office</th>\n",
       "      <th>name</th>\n",
       "      <th>room</th>\n",
       "      <th>temail</th>\n",
       "    </tr>\n",
       "  </thead>\n",
       "  <tbody>\n",
       "    <tr>\n",
       "      <th>0</th>\n",
       "      <td>weixx@jmu.edu                                 ...</td>\n",
       "      <td>Xuebin Wei                                    ...</td>\n",
       "      <td>isat112</td>\n",
       "      <td>IA 341                                        ...</td>\n",
       "      <td>Engeo2201</td>\n",
       "      <td>weixx@jmu.edu                                 ...</td>\n",
       "    </tr>\n",
       "    <tr>\n",
       "      <th>1</th>\n",
       "      <td>taoqx@jmu.edu                                 ...</td>\n",
       "      <td>Tom Tao                                       ...</td>\n",
       "      <td>isat116</td>\n",
       "      <td>IA 300                                        ...</td>\n",
       "      <td>Engeo2202</td>\n",
       "      <td>taoqx@jmu.edu                                 ...</td>\n",
       "    </tr>\n",
       "    <tr>\n",
       "      <th>2</th>\n",
       "      <td>moore8ka@jmu.edu                              ...</td>\n",
       "      <td>Kathleen Moore                                ...</td>\n",
       "      <td>engeo114</td>\n",
       "      <td>IA 261                                        ...</td>\n",
       "      <td>Engeo2204</td>\n",
       "      <td>moore8ka@jmu.edu                              ...</td>\n",
       "    </tr>\n",
       "    <tr>\n",
       "      <th>3</th>\n",
       "      <td>hendrinx@jmu.edu                              ...</td>\n",
       "      <td>Noel Hendrickson                              ...</td>\n",
       "      <td>engeo110</td>\n",
       "      <td>IA 313                                        ...</td>\n",
       "      <td>Engeo2205</td>\n",
       "      <td>hendrinx@jmu.edu                              ...</td>\n",
       "    </tr>\n",
       "    <tr>\n",
       "      <th>4</th>\n",
       "      <td>ronbj@jmu.edu                                 ...</td>\n",
       "      <td>Ron Burgundy                                  ...</td>\n",
       "      <td>isat069</td>\n",
       "      <td>IA 378                                        ...</td>\n",
       "      <td>Mu305</td>\n",
       "      <td>ronbj@jmu.edu                                 ...</td>\n",
       "    </tr>\n",
       "    <tr>\n",
       "      <th>5</th>\n",
       "      <td>ronbj@jmu.edu                                 ...</td>\n",
       "      <td>Ron Burgundy                                  ...</td>\n",
       "      <td>isat069</td>\n",
       "      <td>IA 459                                        ...</td>\n",
       "      <td>Isat300</td>\n",
       "      <td>ronbj@jmu.edu                                 ...</td>\n",
       "    </tr>\n",
       "  </tbody>\n",
       "</table>\n",
       "</div>"
      ],
      "text/plain": [
       "                                               email  \\\n",
       "0  weixx@jmu.edu                                 ...   \n",
       "1  taoqx@jmu.edu                                 ...   \n",
       "2  moore8ka@jmu.edu                              ...   \n",
       "3  hendrinx@jmu.edu                              ...   \n",
       "4  ronbj@jmu.edu                                 ...   \n",
       "5  ronbj@jmu.edu                                 ...   \n",
       "\n",
       "                                                name                office  \\\n",
       "0  Xuebin Wei                                    ...  isat112                \n",
       "1  Tom Tao                                       ...  isat116                \n",
       "2  Kathleen Moore                                ...  engeo114               \n",
       "3  Noel Hendrickson                              ...  engeo110               \n",
       "4  Ron Burgundy                                  ...  isat069                \n",
       "5  Ron Burgundy                                  ...  isat069                \n",
       "\n",
       "                                                name                  room  \\\n",
       "0  IA 341                                        ...  Engeo2201              \n",
       "1  IA 300                                        ...  Engeo2202              \n",
       "2  IA 261                                        ...  Engeo2204              \n",
       "3  IA 313                                        ...  Engeo2205              \n",
       "4  IA 378                                        ...  Mu305                  \n",
       "5  IA 459                                        ...  Isat300                \n",
       "\n",
       "                                              temail  \n",
       "0  weixx@jmu.edu                                 ...  \n",
       "1  taoqx@jmu.edu                                 ...  \n",
       "2  moore8ka@jmu.edu                              ...  \n",
       "3  hendrinx@jmu.edu                              ...  \n",
       "4  ronbj@jmu.edu                                 ...  \n",
       "5  ronbj@jmu.edu                                 ...  "
      ]
     },
     "execution_count": 21,
     "metadata": {},
     "output_type": "execute_result"
    }
   ],
   "source": [
    "df = pandas.read_sql_query(sql_statement3,conn)\n",
    "df[:]"
   ]
  },
  {
   "cell_type": "markdown",
   "metadata": {
    "deletable": true,
    "editable": true
   },
   "source": [
    "# Q4"
   ]
  },
  {
   "cell_type": "code",
   "execution_count": 22,
   "metadata": {
    "collapsed": true,
    "deletable": true,
    "editable": true
   },
   "outputs": [],
   "source": [
    "sql_statement4 = '''\n",
    "                select\n",
    "                teacher_g10.name as tname,\n",
    "                count (course_10.name) as course_num\n",
    "                from teacher_g10\n",
    "                inner join course_10\n",
    "                on teacher_g10.email = course_10.temail\n",
    "                group by teacher_g10.name\n",
    "                '''"
   ]
  },
  {
   "cell_type": "code",
   "execution_count": 23,
   "metadata": {
    "collapsed": true,
    "deletable": true,
    "editable": true
   },
   "outputs": [],
   "source": [
    "cur.execute(sql_statement4)"
   ]
  },
  {
   "cell_type": "code",
   "execution_count": 24,
   "metadata": {
    "collapsed": false,
    "deletable": true,
    "editable": true
   },
   "outputs": [
    {
     "data": {
      "text/plain": [
       "('Noel Hendrickson                                                                                    ',\n",
       " 1)"
      ]
     },
     "execution_count": 24,
     "metadata": {},
     "output_type": "execute_result"
    }
   ],
   "source": [
    "cur.fetchone()"
   ]
  },
  {
   "cell_type": "code",
   "execution_count": 25,
   "metadata": {
    "collapsed": false,
    "deletable": true,
    "editable": true
   },
   "outputs": [
    {
     "name": "stdout",
     "output_type": "stream",
     "text": [
      "('Xuebin Wei                                                                                          ', 1)\n",
      "('Kathleen Moore                                                                                      ', 1)\n",
      "('Ron Burgundy                                                                                        ', 2)\n",
      "('Tom Tao                                                                                             ', 1)\n"
     ]
    }
   ],
   "source": [
    "for result in cur.fetchall():\n",
    "    print(result)"
   ]
  },
  {
   "cell_type": "code",
   "execution_count": 26,
   "metadata": {
    "collapsed": false,
    "deletable": true,
    "editable": true
   },
   "outputs": [
    {
     "data": {
      "text/html": [
       "<div>\n",
       "<style scoped>\n",
       "    .dataframe tbody tr th:only-of-type {\n",
       "        vertical-align: middle;\n",
       "    }\n",
       "\n",
       "    .dataframe tbody tr th {\n",
       "        vertical-align: top;\n",
       "    }\n",
       "\n",
       "    .dataframe thead th {\n",
       "        text-align: right;\n",
       "    }\n",
       "</style>\n",
       "<table border=\"1\" class=\"dataframe\">\n",
       "  <thead>\n",
       "    <tr style=\"text-align: right;\">\n",
       "      <th></th>\n",
       "      <th>tname</th>\n",
       "      <th>course_num</th>\n",
       "    </tr>\n",
       "  </thead>\n",
       "  <tbody>\n",
       "    <tr>\n",
       "      <th>0</th>\n",
       "      <td>Noel Hendrickson                              ...</td>\n",
       "      <td>1</td>\n",
       "    </tr>\n",
       "    <tr>\n",
       "      <th>1</th>\n",
       "      <td>Xuebin Wei                                    ...</td>\n",
       "      <td>1</td>\n",
       "    </tr>\n",
       "    <tr>\n",
       "      <th>2</th>\n",
       "      <td>Kathleen Moore                                ...</td>\n",
       "      <td>1</td>\n",
       "    </tr>\n",
       "    <tr>\n",
       "      <th>3</th>\n",
       "      <td>Ron Burgundy                                  ...</td>\n",
       "      <td>2</td>\n",
       "    </tr>\n",
       "    <tr>\n",
       "      <th>4</th>\n",
       "      <td>Tom Tao                                       ...</td>\n",
       "      <td>1</td>\n",
       "    </tr>\n",
       "  </tbody>\n",
       "</table>\n",
       "</div>"
      ],
      "text/plain": [
       "                                               tname  course_num\n",
       "0  Noel Hendrickson                              ...           1\n",
       "1  Xuebin Wei                                    ...           1\n",
       "2  Kathleen Moore                                ...           1\n",
       "3  Ron Burgundy                                  ...           2\n",
       "4  Tom Tao                                       ...           1"
      ]
     },
     "execution_count": 26,
     "metadata": {},
     "output_type": "execute_result"
    }
   ],
   "source": [
    "df = pandas.read_sql_query(sql_statement4,conn)\n",
    "df[:]"
   ]
  },
  {
   "cell_type": "markdown",
   "metadata": {
    "deletable": true,
    "editable": true
   },
   "source": [
    "# Q5"
   ]
  },
  {
   "cell_type": "code",
   "execution_count": 27,
   "metadata": {
    "collapsed": false,
    "deletable": true,
    "editable": true
   },
   "outputs": [
    {
     "name": "stdout",
     "output_type": "stream",
     "text": [
      "\n",
      "                insert into teacher_g10(email,name,office)\n",
      "                values('bobjm@jmu.edu','Bob Burger','Engeo2203')\n",
      "                \n"
     ]
    }
   ],
   "source": [
    "sql_insert_statement = '''\n",
    "                insert into teacher_g10(email,name,office)\n",
    "                values('bobjm@jmu.edu','Bob Burger','Engeo2203')\n",
    "                '''.format('bobjm@jmu.edu','Bob Burger','Engeo2203')\n",
    "print(sql_insert_statement)"
   ]
  },
  {
   "cell_type": "code",
   "execution_count": 28,
   "metadata": {
    "collapsed": true,
    "deletable": true,
    "editable": true
   },
   "outputs": [],
   "source": [
    "conn.commit()"
   ]
  },
  {
   "cell_type": "code",
   "execution_count": 29,
   "metadata": {
    "collapsed": false,
    "deletable": true,
    "editable": true
   },
   "outputs": [
    {
     "data": {
      "text/html": [
       "<div>\n",
       "<style scoped>\n",
       "    .dataframe tbody tr th:only-of-type {\n",
       "        vertical-align: middle;\n",
       "    }\n",
       "\n",
       "    .dataframe tbody tr th {\n",
       "        vertical-align: top;\n",
       "    }\n",
       "\n",
       "    .dataframe thead th {\n",
       "        text-align: right;\n",
       "    }\n",
       "</style>\n",
       "<table border=\"1\" class=\"dataframe\">\n",
       "  <thead>\n",
       "    <tr style=\"text-align: right;\">\n",
       "      <th></th>\n",
       "      <th>email</th>\n",
       "      <th>name</th>\n",
       "      <th>office</th>\n",
       "    </tr>\n",
       "  </thead>\n",
       "  <tbody>\n",
       "    <tr>\n",
       "      <th>0</th>\n",
       "      <td>weixx@jmu.edu                                 ...</td>\n",
       "      <td>Xuebin Wei                                    ...</td>\n",
       "      <td>isat112</td>\n",
       "    </tr>\n",
       "    <tr>\n",
       "      <th>1</th>\n",
       "      <td>taoqx@jmu.edu                                 ...</td>\n",
       "      <td>Tom Tao                                       ...</td>\n",
       "      <td>isat116</td>\n",
       "    </tr>\n",
       "    <tr>\n",
       "      <th>2</th>\n",
       "      <td>moore8ka@jmu.edu                              ...</td>\n",
       "      <td>Kathleen Moore                                ...</td>\n",
       "      <td>engeo114</td>\n",
       "    </tr>\n",
       "    <tr>\n",
       "      <th>3</th>\n",
       "      <td>hendrinx@jmu.edu                              ...</td>\n",
       "      <td>Noel Hendrickson                              ...</td>\n",
       "      <td>engeo110</td>\n",
       "    </tr>\n",
       "    <tr>\n",
       "      <th>4</th>\n",
       "      <td>ronbj@jmu.edu                                 ...</td>\n",
       "      <td>Ron Burgundy                                  ...</td>\n",
       "      <td>isat069</td>\n",
       "    </tr>\n",
       "  </tbody>\n",
       "</table>\n",
       "</div>"
      ],
      "text/plain": [
       "                                               email  \\\n",
       "0  weixx@jmu.edu                                 ...   \n",
       "1  taoqx@jmu.edu                                 ...   \n",
       "2  moore8ka@jmu.edu                              ...   \n",
       "3  hendrinx@jmu.edu                              ...   \n",
       "4  ronbj@jmu.edu                                 ...   \n",
       "\n",
       "                                                name                office  \n",
       "0  Xuebin Wei                                    ...  isat112               \n",
       "1  Tom Tao                                       ...  isat116               \n",
       "2  Kathleen Moore                                ...  engeo114              \n",
       "3  Noel Hendrickson                              ...  engeo110              \n",
       "4  Ron Burgundy                                  ...  isat069               "
      ]
     },
     "execution_count": 29,
     "metadata": {},
     "output_type": "execute_result"
    }
   ],
   "source": [
    "df = pandas.read_sql_query('''select * from teacher_g10''',conn)\n",
    "df[:]"
   ]
  },
  {
   "cell_type": "code",
   "execution_count": 30,
   "metadata": {
    "collapsed": false,
    "deletable": true,
    "editable": true
   },
   "outputs": [
    {
     "name": "stdout",
     "output_type": "stream",
     "text": [
      "\n",
      "                insert into course_10(name,room,temail)\n",
      "                values('IA457','ISAT50','bobjm@jmu.edu')\n",
      "                \n"
     ]
    }
   ],
   "source": [
    "sql_insert2_statement = '''\n",
    "                insert into course_10(name,room,temail)\n",
    "                values('IA457','ISAT50','bobjm@jmu.edu')\n",
    "                '''\n",
    "print(sql_insert2_statement)"
   ]
  },
  {
   "cell_type": "code",
   "execution_count": 31,
   "metadata": {
    "collapsed": false,
    "deletable": true,
    "editable": true,
    "scrolled": true
   },
   "outputs": [
    {
     "ename": "ForeignKeyViolation",
     "evalue": "insert or update on table \"course_10\" violates foreign key constraint \"course_10_temail_fkey\"\nDETAIL:  Key (temail)=(bobjm@jmu.edu                                                                                       ) is not present in table \"teacher_g10\".\n",
     "output_type": "error",
     "traceback": [
      "\u001b[1;31m---------------------------------------------------------------------------\u001b[0m",
      "\u001b[1;31mForeignKeyViolation\u001b[0m                       Traceback (most recent call last)",
      "\u001b[1;32m<ipython-input-31-c386cea7f34f>\u001b[0m in \u001b[0;36m<module>\u001b[1;34m()\u001b[0m\n\u001b[1;32m----> 1\u001b[1;33m \u001b[0mcur\u001b[0m\u001b[1;33m.\u001b[0m\u001b[0mexecute\u001b[0m\u001b[1;33m(\u001b[0m\u001b[0msql_insert2_statement\u001b[0m\u001b[1;33m)\u001b[0m\u001b[1;33m\u001b[0m\u001b[0m\n\u001b[0m",
      "\u001b[1;31mForeignKeyViolation\u001b[0m: insert or update on table \"course_10\" violates foreign key constraint \"course_10_temail_fkey\"\nDETAIL:  Key (temail)=(bobjm@jmu.edu                                                                                       ) is not present in table \"teacher_g10\".\n"
     ]
    }
   ],
   "source": [
    "cur.execute(sql_insert2_statement)"
   ]
  },
  {
   "cell_type": "code",
   "execution_count": null,
   "metadata": {
    "collapsed": true,
    "deletable": true,
    "editable": true
   },
   "outputs": [],
   "source": [
    "conn.commit()"
   ]
  },
  {
   "cell_type": "code",
   "execution_count": null,
   "metadata": {
    "collapsed": true,
    "deletable": true,
    "editable": true
   },
   "outputs": [],
   "source": [
    "df = pandas.read_sql_query('''select * from course_10''',conn)\n",
    "df[:]"
   ]
  },
  {
   "cell_type": "markdown",
   "metadata": {
    "deletable": true,
    "editable": true
   },
   "source": [
    "# Q6"
   ]
  },
  {
   "cell_type": "code",
   "execution_count": 32,
   "metadata": {
    "collapsed": false,
    "deletable": true,
    "editable": true
   },
   "outputs": [
    {
     "name": "stdout",
     "output_type": "stream",
     "text": [
      "\n",
      "                        update course_10\n",
      "                        set temail = 'bobjm@jmu.edu'\n",
      "                        where name = 'IA457'\n",
      "                        \n"
     ]
    }
   ],
   "source": [
    "sql_insert3_statement = '''\n",
    "                        update course_10\n",
    "                        set temail = 'bobjm@jmu.edu'\n",
    "                        where name = 'IA457'\n",
    "                        '''\n",
    "print(sql_insert3_statement)"
   ]
  },
  {
   "cell_type": "code",
   "execution_count": 33,
   "metadata": {
    "collapsed": false,
    "deletable": true,
    "editable": true
   },
   "outputs": [
    {
     "ename": "InFailedSqlTransaction",
     "evalue": "current transaction is aborted, commands ignored until end of transaction block\n",
     "output_type": "error",
     "traceback": [
      "\u001b[1;31m---------------------------------------------------------------------------\u001b[0m",
      "\u001b[1;31mInFailedSqlTransaction\u001b[0m                    Traceback (most recent call last)",
      "\u001b[1;32m<ipython-input-33-c7767efc62e7>\u001b[0m in \u001b[0;36m<module>\u001b[1;34m()\u001b[0m\n\u001b[1;32m----> 1\u001b[1;33m \u001b[0mcur\u001b[0m\u001b[1;33m.\u001b[0m\u001b[0mexecute\u001b[0m\u001b[1;33m(\u001b[0m\u001b[0msql_insert3_statement\u001b[0m\u001b[1;33m)\u001b[0m\u001b[1;33m\u001b[0m\u001b[0m\n\u001b[0m",
      "\u001b[1;31mInFailedSqlTransaction\u001b[0m: current transaction is aborted, commands ignored until end of transaction block\n"
     ]
    }
   ],
   "source": [
    "cur.execute(sql_insert3_statement)"
   ]
  },
  {
   "cell_type": "code",
   "execution_count": 34,
   "metadata": {
    "collapsed": true,
    "deletable": true,
    "editable": true
   },
   "outputs": [],
   "source": [
    "conn.commit()"
   ]
  },
  {
   "cell_type": "code",
   "execution_count": 35,
   "metadata": {
    "collapsed": false,
    "deletable": true,
    "editable": true
   },
   "outputs": [
    {
     "data": {
      "text/html": [
       "<div>\n",
       "<style scoped>\n",
       "    .dataframe tbody tr th:only-of-type {\n",
       "        vertical-align: middle;\n",
       "    }\n",
       "\n",
       "    .dataframe tbody tr th {\n",
       "        vertical-align: top;\n",
       "    }\n",
       "\n",
       "    .dataframe thead th {\n",
       "        text-align: right;\n",
       "    }\n",
       "</style>\n",
       "<table border=\"1\" class=\"dataframe\">\n",
       "  <thead>\n",
       "    <tr style=\"text-align: right;\">\n",
       "      <th></th>\n",
       "      <th>name</th>\n",
       "      <th>room</th>\n",
       "      <th>temail</th>\n",
       "    </tr>\n",
       "  </thead>\n",
       "  <tbody>\n",
       "    <tr>\n",
       "      <th>0</th>\n",
       "      <td>IA 341                                        ...</td>\n",
       "      <td>Engeo2201</td>\n",
       "      <td>weixx@jmu.edu                                 ...</td>\n",
       "    </tr>\n",
       "    <tr>\n",
       "      <th>1</th>\n",
       "      <td>IA 300                                        ...</td>\n",
       "      <td>Engeo2202</td>\n",
       "      <td>taoqx@jmu.edu                                 ...</td>\n",
       "    </tr>\n",
       "    <tr>\n",
       "      <th>2</th>\n",
       "      <td>IA 261                                        ...</td>\n",
       "      <td>Engeo2204</td>\n",
       "      <td>moore8ka@jmu.edu                              ...</td>\n",
       "    </tr>\n",
       "    <tr>\n",
       "      <th>3</th>\n",
       "      <td>IA 313                                        ...</td>\n",
       "      <td>Engeo2205</td>\n",
       "      <td>hendrinx@jmu.edu                              ...</td>\n",
       "    </tr>\n",
       "    <tr>\n",
       "      <th>4</th>\n",
       "      <td>IA 378                                        ...</td>\n",
       "      <td>Mu305</td>\n",
       "      <td>ronbj@jmu.edu                                 ...</td>\n",
       "    </tr>\n",
       "    <tr>\n",
       "      <th>5</th>\n",
       "      <td>IA 459                                        ...</td>\n",
       "      <td>Isat300</td>\n",
       "      <td>ronbj@jmu.edu                                 ...</td>\n",
       "    </tr>\n",
       "  </tbody>\n",
       "</table>\n",
       "</div>"
      ],
      "text/plain": [
       "                                                name                  room  \\\n",
       "0  IA 341                                        ...  Engeo2201              \n",
       "1  IA 300                                        ...  Engeo2202              \n",
       "2  IA 261                                        ...  Engeo2204              \n",
       "3  IA 313                                        ...  Engeo2205              \n",
       "4  IA 378                                        ...  Mu305                  \n",
       "5  IA 459                                        ...  Isat300                \n",
       "\n",
       "                                              temail  \n",
       "0  weixx@jmu.edu                                 ...  \n",
       "1  taoqx@jmu.edu                                 ...  \n",
       "2  moore8ka@jmu.edu                              ...  \n",
       "3  hendrinx@jmu.edu                              ...  \n",
       "4  ronbj@jmu.edu                                 ...  \n",
       "5  ronbj@jmu.edu                                 ...  "
      ]
     },
     "execution_count": 35,
     "metadata": {},
     "output_type": "execute_result"
    }
   ],
   "source": [
    "df = pandas.read_sql_query('''select * from course_10''',conn)\n",
    "df[:]"
   ]
  },
  {
   "cell_type": "code",
   "execution_count": 36,
   "metadata": {
    "collapsed": false,
    "deletable": true,
    "editable": true
   },
   "outputs": [
    {
     "name": "stdout",
     "output_type": "stream",
     "text": [
      "\n",
      "                        delete from teacher_g10\n",
      "                        where email = 'marrinsp@jmu.edu'\n",
      "                        \n"
     ]
    }
   ],
   "source": [
    "sql_delete_statement = '''\n",
    "                        delete from teacher_g10\n",
    "                        where email = 'marrinsp@jmu.edu'\n",
    "                        '''\n",
    "print(sql_delete_statement)"
   ]
  },
  {
   "cell_type": "code",
   "execution_count": 37,
   "metadata": {
    "collapsed": true,
    "deletable": true,
    "editable": true
   },
   "outputs": [],
   "source": [
    "conn.commit()"
   ]
  },
  {
   "cell_type": "code",
   "execution_count": 38,
   "metadata": {
    "collapsed": false,
    "deletable": true,
    "editable": true
   },
   "outputs": [
    {
     "data": {
      "text/html": [
       "<div>\n",
       "<style scoped>\n",
       "    .dataframe tbody tr th:only-of-type {\n",
       "        vertical-align: middle;\n",
       "    }\n",
       "\n",
       "    .dataframe tbody tr th {\n",
       "        vertical-align: top;\n",
       "    }\n",
       "\n",
       "    .dataframe thead th {\n",
       "        text-align: right;\n",
       "    }\n",
       "</style>\n",
       "<table border=\"1\" class=\"dataframe\">\n",
       "  <thead>\n",
       "    <tr style=\"text-align: right;\">\n",
       "      <th></th>\n",
       "      <th>email</th>\n",
       "      <th>name</th>\n",
       "      <th>office</th>\n",
       "    </tr>\n",
       "  </thead>\n",
       "  <tbody>\n",
       "    <tr>\n",
       "      <th>0</th>\n",
       "      <td>weixx@jmu.edu                                 ...</td>\n",
       "      <td>Xuebin Wei                                    ...</td>\n",
       "      <td>isat112</td>\n",
       "    </tr>\n",
       "    <tr>\n",
       "      <th>1</th>\n",
       "      <td>taoqx@jmu.edu                                 ...</td>\n",
       "      <td>Tom Tao                                       ...</td>\n",
       "      <td>isat116</td>\n",
       "    </tr>\n",
       "    <tr>\n",
       "      <th>2</th>\n",
       "      <td>moore8ka@jmu.edu                              ...</td>\n",
       "      <td>Kathleen Moore                                ...</td>\n",
       "      <td>engeo114</td>\n",
       "    </tr>\n",
       "    <tr>\n",
       "      <th>3</th>\n",
       "      <td>hendrinx@jmu.edu                              ...</td>\n",
       "      <td>Noel Hendrickson                              ...</td>\n",
       "      <td>engeo110</td>\n",
       "    </tr>\n",
       "    <tr>\n",
       "      <th>4</th>\n",
       "      <td>ronbj@jmu.edu                                 ...</td>\n",
       "      <td>Ron Burgundy                                  ...</td>\n",
       "      <td>isat069</td>\n",
       "    </tr>\n",
       "  </tbody>\n",
       "</table>\n",
       "</div>"
      ],
      "text/plain": [
       "                                               email  \\\n",
       "0  weixx@jmu.edu                                 ...   \n",
       "1  taoqx@jmu.edu                                 ...   \n",
       "2  moore8ka@jmu.edu                              ...   \n",
       "3  hendrinx@jmu.edu                              ...   \n",
       "4  ronbj@jmu.edu                                 ...   \n",
       "\n",
       "                                                name                office  \n",
       "0  Xuebin Wei                                    ...  isat112               \n",
       "1  Tom Tao                                       ...  isat116               \n",
       "2  Kathleen Moore                                ...  engeo114              \n",
       "3  Noel Hendrickson                              ...  engeo110              \n",
       "4  Ron Burgundy                                  ...  isat069               "
      ]
     },
     "execution_count": 38,
     "metadata": {},
     "output_type": "execute_result"
    }
   ],
   "source": [
    "df = pandas.read_sql_query('''select * from teacher_g10''',conn)\n",
    "df[:]"
   ]
  }
 ],
 "metadata": {
  "kernelspec": {
   "display_name": "Python 3",
   "language": "python",
   "name": "python3"
  },
  "language_info": {
   "codemirror_mode": {
    "name": "ipython",
    "version": 3
   },
   "file_extension": ".py",
   "mimetype": "text/x-python",
   "name": "python",
   "nbconvert_exporter": "python",
   "pygments_lexer": "ipython3",
   "version": "3.5.2"
  }
 },
 "nbformat": 4,
 "nbformat_minor": 2
}
